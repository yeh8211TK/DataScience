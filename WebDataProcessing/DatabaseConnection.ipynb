{
 "cells": [
  {
   "cell_type": "markdown",
   "metadata": {},
   "source": [
    "### Python 與 MySQL 資料庫的連接\n",
    "\n",
    "#### 1. 安裝 PyMySql 模組\n",
    "\n",
    "    pip install pymysql\n",
    "    \n",
    "    \n",
    "#### 2. 連接資料庫\n",
    "\n",
    "    import pymysql\n",
    "    \n",
    "    連接變數 = pymysql.connect('伺服器位置', port=接口, user='使用者名稱', passwd='密碼', charset='utf-8', db='資料庫名稱')\n",
    "    \n",
    "    指針變數 = 連接變數.cursor()\n",
    "    \n",
    "    \n",
    "#### 3. 使用 SQL 語法\n",
    "\n",
    "    sql [變數] = \"\"\"\n",
    "    \n",
    "    ... (SQL 語法) ...\n",
    "    \n",
    "    \"\"\"\n",
    "    \n",
    "    \n",
    "#### 4. 執行 SQL 指令\n",
    "\n",
    "    指針變數.execute(sql [變數])\n",
    "    \n",
    "    \n",
    "#### 5. 查詢回傳的資料\n",
    "\n",
    "    (1) 指針變數.fetchall(): 以二維串列顯示資料表中所有符合查詢條件的資料 (無資料則傳回 None)\n",
    "    \n",
    "    (2) 指針變數.fetchone(): 以串列顯示資料表中符合查詢條件的第一筆資料 (無資料則傳回 None)\n",
    "    \n",
    "\n",
    "#### 6. 執行資料庫的更新\n",
    "\n",
    "    連線變數.commit()\n",
    "\n",
    "\n",
    "#### 7. 關閉指針(cursor)\n",
    "\n",
    "    指針變數.close()\n",
    "\n",
    "\n",
    "#### 8. 關閉資料庫連線\n",
    "\n",
    "    連線變數.close()\n",
    "\n"
   ]
  }
 ],
 "metadata": {
  "kernelspec": {
   "display_name": "Python 3",
   "language": "python",
   "name": "python3"
  },
  "language_info": {
   "codemirror_mode": {
    "name": "ipython",
    "version": 3
   },
   "file_extension": ".py",
   "mimetype": "text/x-python",
   "name": "python",
   "nbconvert_exporter": "python",
   "pygments_lexer": "ipython3",
   "version": "3.5.4"
  }
 },
 "nbformat": 4,
 "nbformat_minor": 2
}

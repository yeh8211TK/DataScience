{
 "cells": [
  {
   "cell_type": "markdown",
   "metadata": {},
   "source": [
    "### 各種檔案格式的匯入方法"
   ]
  },
  {
   "cell_type": "markdown",
   "metadata": {},
   "source": [
    "#### The common spreadsheet file formats: data is stored in cells\n",
    "\n",
    "- Comma Separated Values (CSV)\n",
    "\n",
    "\n",
    "- Microsoft Excel Spreadsheet (xls) \n",
    "\n",
    "\n",
    "- Microsoft Excel Open XML Spreadsheet (xlsx)"
   ]
  },
  {
   "cell_type": "markdown",
   "metadata": {},
   "source": [
    "#### 1. Comma-separated values (CSV)\n",
    "\n",
    "- 每一筆紀錄裡不同欄位的項目使用逗號(，)分離\n",
    "\n",
    "[Note] Tab Separated Values (TSV): 每一筆紀錄裡不同欄位的項目使用 tab 分離"
   ]
  },
  {
   "cell_type": "markdown",
   "metadata": {},
   "source": [
    "方法一:"
   ]
  },
  {
   "cell_type": "code",
   "execution_count": null,
   "metadata": {
    "collapsed": true
   },
   "outputs": [],
   "source": [
    "import pandas as pd\n",
    "\n",
    "df = pd.read_csv(\"檔案路徑/檔名.csv\") # encoding=\"編碼參數\"、index_col=0 (去除索引欄位)\n",
    "\n",
    "# 儲存檔案: df.to_csv(\"檔案路徑/檔名.csv\", encoding=\"編碼參數\")"
   ]
  },
  {
   "cell_type": "markdown",
   "metadata": {},
   "source": [
    "方法二:"
   ]
  },
  {
   "cell_type": "code",
   "execution_count": null,
   "metadata": {
    "collapsed": true
   },
   "outputs": [],
   "source": [
    "import csv\n",
    "\n",
    "# csv 檔的寫入-1 #\n",
    "with open('檔名.csv', 'w', newline='') as 別名: # newline: 使換行字元被解析\n",
    "    # 建立 csv 檔寫入物件\n",
    "    writer = csv.writer(別名)\n",
    "    \n",
    "    # 寫入欄位名稱\n",
    "    writer.writerow(['欄位1', '欄位2', ...])\n",
    "    \n",
    "    # 寫入資料\n",
    "    writer.writerow([資料1, 資料2, ...])\n",
    "\n",
    "# csv 檔的寫入-2 #\n",
    "with open('檔名.csv', 'w', newline='') as 別名: # newline: 使換行字元被解析\n",
    "    # 定義欄位\n",
    "    fieldnames = ['欄位1', '欄位2', ...]\n",
    "    \n",
    "    # 將字典寫入 csv 檔\n",
    "    writer = csv.DictWriter(別名, fieldnames = fieldnames)\n",
    "    \n",
    "    # 寫入欄位名稱\n",
    "    writer.writeheader()\n",
    "    \n",
    "# csv 檔的讀取-1 #\n",
    "with open('檔名.csv', newline='') as 別名: # newline: 使換行字元被解析\n",
    "    # 讀取 csv 檔案內容\n",
    "    rows = csv.reader(別名)\n",
    "\n",
    "# csv 檔的讀取-2 #\n",
    "with open('檔名.csv', newline='') as 別名: # newline: 使換行字元被解析\n",
    "    # 讀取 csv 檔案內容\n",
    "    rows = csv.DictReader(別名)"
   ]
  },
  {
   "cell_type": "markdown",
   "metadata": {},
   "source": [
    "#### 2. XLSX"
   ]
  },
  {
   "cell_type": "markdown",
   "metadata": {},
   "source": [
    "方法一:"
   ]
  },
  {
   "cell_type": "code",
   "execution_count": null,
   "metadata": {
    "collapsed": true
   },
   "outputs": [],
   "source": [
    "import pandas as pd\n",
    "\n",
    "df = pd.read_excel(\"檔案路徑/檔名.xlsx\", sheetname = \"表單名稱\")\n",
    "\n",
    "# 儲存檔案: df.to_excel(\"檔案路徑/檔名.xlsx\", encoding=\"編碼參數\")"
   ]
  },
  {
   "cell_type": "markdown",
   "metadata": {},
   "source": [
    "方法二:"
   ]
  },
  {
   "cell_type": "code",
   "execution_count": null,
   "metadata": {
    "collapsed": true
   },
   "outputs": [],
   "source": [
    "import openpyxl\n",
    "\n",
    "workbook = openpyxl.load_workbook(\"檔案路徑/檔名.xlsx\")\n",
    "\n",
    "# 取得工作簿的第一個工作表\n",
    "sheet1 = workbook.worksheets[0]\n",
    "\n",
    "# 讀取總行數: sheet.max_column\n",
    "# 讀取總列數: sheet.max_row\n",
    "# 讀取儲存格內容: sheet.cell(row=第 i 列, column=第 j 行).value\n",
    "# 寫入單一儲存格: sheet['儲存格']=內容\n",
    "# 寫入串列: sheet.append(串列名稱)\n",
    "# 儲存檔案: workbook.save(\"檔案路徑/檔名.xlsx\")"
   ]
  },
  {
   "cell_type": "markdown",
   "metadata": {},
   "source": [
    "#### The common archive file formats: they are used to collect multiple data files together into a single file.\n",
    "\n",
    "- Zip\n",
    "\n",
    "\n",
    "- RAR\n",
    "\n",
    "\n",
    "- Tar"
   ]
  },
  {
   "cell_type": "markdown",
   "metadata": {},
   "source": [
    "#### 3. ZIP\n",
    "\n",
    "-  lossless compression format"
   ]
  },
  {
   "cell_type": "code",
   "execution_count": null,
   "metadata": {
    "collapsed": true
   },
   "outputs": [],
   "source": [
    "import zipfile\n",
    "\n",
    "archive = zipfile.ZipFile('zip檔名.zip', 'r')\n",
    "\n",
    "df = archive.read('csv檔名.csv')"
   ]
  },
  {
   "cell_type": "markdown",
   "metadata": {},
   "source": [
    "#### 4. Plain Text (txt)\n",
    "\n",
    "-  unstructured form"
   ]
  },
  {
   "cell_type": "code",
   "execution_count": null,
   "metadata": {
    "collapsed": true
   },
   "outputs": [],
   "source": [
    "text_file = open(\"txt檔名.txt\", \"r\")\n",
    "\n",
    "lines = text_file.read()"
   ]
  },
  {
   "cell_type": "markdown",
   "metadata": {},
   "source": [
    "#### 5. JavaScript Object Notation (JSON)\n",
    "\n",
    "- a text-based open standard designed for exchanging the structured data over web"
   ]
  },
  {
   "cell_type": "code",
   "execution_count": null,
   "metadata": {
    "collapsed": true
   },
   "outputs": [],
   "source": [
    "import pandas as pd\n",
    "\n",
    "df = pd.read_json(\"檔案路徑/檔名.json\")\n",
    "\n",
    "# 儲存檔案: df.to_json(\"檔案路徑/檔名.json\", encoding=\"編碼參數\")"
   ]
  },
  {
   "cell_type": "markdown",
   "metadata": {},
   "source": [
    "#### 6. XML\n",
    "\n",
    "- an Extensible Markup Language\n",
    "\n",
    "\n",
    "- a human-readable and machine-readable file format\n",
    "\n",
    "\n",
    "- a self-descriptive language designed for sending information over the internet\n",
    "\n",
    "\n",
    "- XML doesn't use predefined tags"
   ]
  },
  {
   "cell_type": "code",
   "execution_count": null,
   "metadata": {
    "collapsed": true
   },
   "outputs": [],
   "source": [
    "import xml.etree.ElementTree as ET\n",
    "\n",
    "tree = ET.parse(\"檔案路徑/檔名.xml\")\n",
    "\n",
    "root = tree.getroot()\n",
    "print root.tag"
   ]
  },
  {
   "cell_type": "markdown",
   "metadata": {},
   "source": [
    "#### 7. Hyper Text Markup Language (HTML)\n",
    "\n",
    "- It is the standard markup language which is used for creating Web pages and describing structure of web pages\n",
    "\n",
    "\n",
    "- HTML tags are predefined"
   ]
  },
  {
   "cell_type": "markdown",
   "metadata": {},
   "source": [
    "See [Beginner’s guide to Web Scraping in Python (using BeautifulSoup)](https://www.analyticsvidhya.com/blog/2015/10/beginner-guide-web-scraping-beautiful-soup-python/)"
   ]
  },
  {
   "cell_type": "code",
   "execution_count": null,
   "metadata": {
    "collapsed": true
   },
   "outputs": [],
   "source": [
    "import pandas as pd\n",
    "\n",
    "df = pd.read_html(\"檔案路徑/檔名.html\")\n",
    "\n",
    "# 儲存檔案: df.to_html(\"檔案路徑/檔名.html\", encoding=\"編碼參數\")"
   ]
  },
  {
   "cell_type": "markdown",
   "metadata": {},
   "source": [
    "#### 8. Images"
   ]
  },
  {
   "cell_type": "markdown",
   "metadata": {},
   "source": [
    "See [Basics of Image Processing in Python](https://www.analyticsvidhya.com/blog/2014/12/image-processing-python-basics/)"
   ]
  },
  {
   "cell_type": "markdown",
   "metadata": {},
   "source": [
    "#### 9. Hierarchical Data Format (HDF)\n",
    "\n",
    "Advantages:\n",
    "\n",
    "- It can be used in every size and type of system\n",
    "- It has flexible, efficient storage and fast I/O\n",
    "- Many formats support HDF\n",
    "\n",
    "HDF5 file format: the latest HDF version which is designed to address some of the limitations of the older HDF file formats"
   ]
  },
  {
   "cell_type": "code",
   "execution_count": null,
   "metadata": {
    "collapsed": true
   },
   "outputs": [],
   "source": [
    "import pandas as pd\n",
    "\n",
    "df = pd.read_hdf(\"檔案路徑/檔名.h5\")"
   ]
  },
  {
   "cell_type": "markdown",
   "metadata": {},
   "source": [
    "#### 10. Portable Document Format (PDF)"
   ]
  },
  {
   "cell_type": "markdown",
   "metadata": {},
   "source": [
    "- Download PDFMiner and install it through the [website](https://euske.github.io/pdfminer/)\n",
    "\n",
    "\n",
    "- Extract PDF file by the following code:\n",
    "\n",
    "      pdf2txt.py <pdf_file>.pdf"
   ]
  },
  {
   "cell_type": "markdown",
   "metadata": {},
   "source": [
    "#### 11. DOCX"
   ]
  },
  {
   "cell_type": "markdown",
   "metadata": {},
   "source": [
    "- 安裝 python docx2txt library: pip install docx2txt"
   ]
  },
  {
   "cell_type": "code",
   "execution_count": null,
   "metadata": {
    "collapsed": true
   },
   "outputs": [],
   "source": [
    "import docx2txt\n",
    "\n",
    "text = docx2txt.process(\"檔案路徑/檔名.docx\")"
   ]
  },
  {
   "cell_type": "markdown",
   "metadata": {},
   "source": [
    "#### 12. MP3"
   ]
  },
  {
   "cell_type": "markdown",
   "metadata": {},
   "source": [
    "- [mp3 File Format Structure](https://upload.wikimedia.org/wikipedia/commons/0/01/Mp3filestructure.svg)\n",
    "\n",
    "\n",
    "- Reading or manipulating the multimedia files: [PyMedia](http://pymedia.org/tut/index.html)"
   ]
  },
  {
   "cell_type": "markdown",
   "metadata": {},
   "source": [
    "#### 13. MP4"
   ]
  },
  {
   "cell_type": "markdown",
   "metadata": {},
   "source": [
    "- 安裝 [MoviePy](http://zulko.github.io/moviepy/)"
   ]
  },
  {
   "cell_type": "code",
   "execution_count": null,
   "metadata": {
    "collapsed": true
   },
   "outputs": [],
   "source": [
    "from moviepy.editor import VideoFileClip\n",
    "\n",
    "clip = VideoFileClip(‘<video_file>.mp4’)\n",
    "ipython_display(clip)"
   ]
  },
  {
   "cell_type": "markdown",
   "metadata": {},
   "source": [
    "#### [Note]: 內建函式 open() 的使用"
   ]
  },
  {
   "cell_type": "markdown",
   "metadata": {},
   "source": [
    "#### 1. 開啟與關閉檔案\n",
    "\n",
    "方法一:\n",
    "\n",
    "    f = open(檔案名稱 [, 模式] [, 編碼])\n",
    "    \n",
    "    ......\n",
    "    \n",
    "    f.close()\n",
    "\n",
    "方法二:\n",
    "\n",
    "    with open(檔案名稱 [, 模式] [, 編碼]) as f:\n",
    "    \n",
    "    ......\n",
    "        \n",
    "[模式]\n",
    "\n",
    "- r: 讀取模式\n",
    "\n",
    "\n",
    "- w: 寫入模式，覆蓋已存在的檔案內容\n",
    "\n",
    "\n",
    "- a: 附加模式，新增的內容附加在已存在的檔案內容尾端\n",
    "\n",
    "\n",
    "[編碼]\n",
    "\n",
    "- 預設: UTF-8\n",
    "\n",
    "\n",
    "- 讀取 BOM 的文件檔時，去除 BOM: UTF-8-sig\n",
    "\n",
    "\n",
    "#### 2. 檔案處理\n",
    "\n",
    "- read(size): 讀取指定長度的字元，未指定則讀取所有字元\n",
    "\n",
    "\n",
    "- readable(): 測試是否可讀取\n",
    "\n",
    "\n",
    "- readline(size): 讀取目前文字指標所在行 size 長度的文字內容，若省略參數則讀取一整列(包含'\\n')，以 print() 顯示會多出一列空白列\n",
    "\n",
    "\n",
    "- readlines(): 讀取所有行並回傳一個串列(包含跳列字元:\\n、隱含字元)\n",
    "\n",
    "\n",
    "- next(): 移動到下一行\n",
    "\n",
    "\n",
    "- seek(0): 將指標移到文件最前端\n",
    "\n",
    "\n",
    "- tell(): 回傳文件目前位置\n",
    "\n",
    "\n",
    "- write(str): 將指定的串列寫入文件中(沒有返回值)\n",
    "\n",
    "\n",
    "- writable(): 測試是否可寫入"
   ]
  },
  {
   "cell_type": "markdown",
   "metadata": {},
   "source": [
    "#### Reference:\n",
    "\n",
    "- [How to read most commonly used file formats in Data Science (using Python)?](https://www.analyticsvidhya.com/blog/2017/03/read-commonly-used-formats-using-python/?utm_content=buffer47ec4&utm_medium=social&utm_source=plus.google.com&utm_campaign=buffer)"
   ]
  }
 ],
 "metadata": {
  "kernelspec": {
   "display_name": "Python 3",
   "language": "python",
   "name": "python3"
  },
  "language_info": {
   "codemirror_mode": {
    "name": "ipython",
    "version": 3
   },
   "file_extension": ".py",
   "mimetype": "text/x-python",
   "name": "python",
   "nbconvert_exporter": "python",
   "pygments_lexer": "ipython3",
   "version": "3.5.4"
  }
 },
 "nbformat": 4,
 "nbformat_minor": 2
}

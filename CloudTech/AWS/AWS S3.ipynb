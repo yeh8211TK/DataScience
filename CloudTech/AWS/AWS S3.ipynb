{
 "cells": [
  {
   "cell_type": "markdown",
   "metadata": {},
   "source": [
    "### A. Boto3 library"
   ]
  },
  {
   "cell_type": "code",
   "execution_count": null,
   "metadata": {},
   "outputs": [],
   "source": [
    "import boto3\n",
    "\n",
    "s3 = boto3.client('s3',\n",
    "                   region_name='us-east-1',\n",
    "                   aws_access_key_id=AWS_KEY_ID,\n",
    "                   aws_secret_access_key=AWS_SECRET)\n",
    "\n",
    "response = s3.list_buckets()"
   ]
  },
  {
   "cell_type": "markdown",
   "metadata": {},
   "source": [
    "### B. AWS services\n",
    "\n",
    "- IAM is for user management and giving access\n",
    "\n",
    "\n",
    "- S3 is for storing objects like images in the cloud\n",
    "\n",
    "\n",
    "- SNS is for sending alerts via SMS and email\n",
    "\n",
    "\n",
    "- Rekognition is for computer vision and detecting labels in an image\n",
    "\n",
    "\n",
    "- Comprehend is for sentiment analysis on blocks of the text"
   ]
  },
  {
   "cell_type": "markdown",
   "metadata": {},
   "source": [
    "### C. AWS S3\n",
    "\n",
    "#### S3 components\n",
    "\n",
    "(1) Buckets (like folders)\n",
    "\n",
    "- A bucket has a name\n",
    "\n",
    "\n",
    "- Name is a string\n",
    "\n",
    "\n",
    "- Unique name in all of S3\n",
    "\n",
    "\n",
    "- Contains many objects\n",
    "\n",
    "\n",
    "(2) Objects (like files)\n",
    "\n",
    "- An object has a key\n",
    "\n",
    "\n",
    "- Name is full path from bucket root\n",
    "\n",
    "\n",
    "- Unique key in the bucket\n",
    "\n",
    "\n",
    "- Can only be in one parent bucket"
   ]
  },
  {
   "cell_type": "markdown",
   "metadata": {},
   "source": [
    "#### Bucket"
   ]
  },
  {
   "cell_type": "code",
   "execution_count": null,
   "metadata": {},
   "outputs": [],
   "source": [
    "# Create Bucket\n",
    "bucket = s3.create_bucket(Bucket='gid-requests')\n",
    "\n",
    "# List Buckets\n",
    "bucket_response = s3.list_buckets()\n",
    "\n",
    "# Get Buckets Dictionary\n",
    "buckets = bucket_response['Buckets']\n",
    "\n",
    "# Iterate over Buckets from .list_buckets() response\n",
    "for bucket in bucket_response['Buckets']:\n",
    "    # Print the Name for each bucket\n",
    "    print(bucket['Name'])\n",
    "    \n",
    "# Delete Bucket\n",
    "response = s3.delete_bucket('gid-requests')"
   ]
  },
  {
   "cell_type": "markdown",
   "metadata": {},
   "source": [
    "#### Object"
   ]
  },
  {
   "cell_type": "code",
   "execution_count": null,
   "metadata": {},
   "outputs": [],
   "source": [
    "# Uploading files\n",
    "s3.upload_file(Filename='gid_requests_2020_01_01.csv',\n",
    "               Bucket='gid-requests',\n",
    "               Key='gid_requests_2020_01_01.csv')\n",
    "\n",
    "# Listing objects in a bucket\n",
    "response = s3.list_objects(Bucket='gid-requests',\n",
    "                           MaxKeys=2,\n",
    "                           Prefix='gid_requests_2020_')\n",
    "\n",
    "# Getting first object\n",
    "response = s3.head_object(Bucket='gid-requests',\n",
    "                          Key='gid_requests_2020_01_01.csv')\n",
    "\n",
    "# Downloading files\n",
    "s3.download_file(Filename='gid_requests_downed.csv',\n",
    "                 Bucket='gid-requests',\n",
    "                 Key='gid_requests_2020_01_01.csv')\n",
    "\n",
    "# Deleting objects\n",
    "s3.delete_object(Bucket='gid-requests',\n",
    "                 Key='gid_requests_2020_01_01.csv')"
   ]
  },
  {
   "cell_type": "markdown",
   "metadata": {},
   "source": [
    "### D. AWS permission system \n",
    "\n",
    "(Default: denying permission)\n",
    "\n",
    "- IAM: control user's access to AWS services, buckets and objects\n",
    "\n",
    "\n",
    "- bucket policy: control buckets access\n",
    "\n",
    "\n",
    "- ACL (access control lists): control objects access\n",
    "\n",
    "\n",
    "- presigned URL: temporary access to an object\n",
    "\n",
    "\n",
    "Note: **IAM** and **bucket policy** are adequate for multi-user environment."
   ]
  },
  {
   "cell_type": "markdown",
   "metadata": {},
   "source": [
    "#### ACL (access control lists)\n",
    "\n",
    "- private (default)\n",
    "\n",
    "\n",
    "- public-read"
   ]
  },
  {
   "cell_type": "markdown",
   "metadata": {},
   "source": [
    "(1) Make files public-read\n",
    "\n",
    "method 1:"
   ]
  },
  {
   "cell_type": "code",
   "execution_count": null,
   "metadata": {},
   "outputs": [],
   "source": [
    "# Set ACL to 'public-read'\n",
    "s3.put_object_acl(Bucket='gid-requests', \n",
    "                  Key='gid_requests_2020_01_01.csv', \n",
    "                  ACL='public-read')"
   ]
  },
  {
   "cell_type": "markdown",
   "metadata": {},
   "source": [
    "method 2:"
   ]
  },
  {
   "cell_type": "code",
   "execution_count": null,
   "metadata": {},
   "outputs": [],
   "source": [
    "# Setting ACLs on upload\n",
    "s3.upload_file(Bucket='gid-requests',\n",
    "               Filename='potholes.csv',\n",
    "               Key='potholes.csv',\n",
    "               ExtraArgs={'ACL':'public-read'})"
   ]
  },
  {
   "cell_type": "markdown",
   "metadata": {},
   "source": [
    "(2) Accessing public objects\n",
    "\n",
    "method 1: "
   ]
  },
  {
   "cell_type": "code",
   "execution_count": null,
   "metadata": {},
   "outputs": [],
   "source": [
    "url = https://{bucket}.s3.amazonaws.com/{key}"
   ]
  },
  {
   "cell_type": "markdown",
   "metadata": {},
   "source": [
    "method 2:"
   ]
  },
  {
   "cell_type": "code",
   "execution_count": null,
   "metadata": {},
   "outputs": [],
   "source": [
    "url = \"https://{}.s3.amazonaws.com/{}\".format(\"gid-requests\", \"gid_requests_2020_01_01.csv\")"
   ]
  },
  {
   "cell_type": "markdown",
   "metadata": {},
   "source": [
    "(3) Downloading public files"
   ]
  },
  {
   "cell_type": "code",
   "execution_count": null,
   "metadata": {},
   "outputs": [],
   "source": [
    "df = pd.read_csv(url) # access!"
   ]
  },
  {
   "cell_type": "markdown",
   "metadata": {},
   "source": [
    "(4) Example: Making multiple files public"
   ]
  },
  {
   "cell_type": "code",
   "execution_count": null,
   "metadata": {},
   "outputs": [],
   "source": [
    "# List only objects that start with '2020/final_'\n",
    "response = s3.list_objects(Bucket='gid-staging', Prefix='2020/final_')\n",
    "\n",
    "# Iterate over the objects\n",
    "for obj in response['Contents']:\n",
    "  \n",
    "    # Give each object ACL of public-read\n",
    "    s3.put_object_acl(Bucket='gid-staging',\n",
    "                      Key=obj['Key'], \n",
    "                      ACL='public-read')\n",
    "    \n",
    "    # Print the Public Object URL for each object\n",
    "    print(\"https://{}.s3.amazonaws.com/{}\".format('gid-staging', obj['Key']))"
   ]
  },
  {
   "cell_type": "markdown",
   "metadata": {},
   "source": [
    "#### How access is decided?\n",
    "\n",
    "requester ---> presigned URL ---(No) ---> policies allow? (IAM、bucket policy、ACL)"
   ]
  },
  {
   "cell_type": "markdown",
   "metadata": {},
   "source": [
    "#### Accessing private objects in S3\n",
    "\n",
    "method 1: Download then open"
   ]
  },
  {
   "cell_type": "code",
   "execution_count": null,
   "metadata": {},
   "outputs": [],
   "source": [
    "# Download File\n",
    "s3.download_file(Filename='file_local.csv',\n",
    "                 Bucket='gid-staging',\n",
    "                 Key='2020/file_private.csv')\n",
    "\n",
    "# Read From Disk\n",
    "pd.read_csv('./file_local.csv')"
   ]
  },
  {
   "cell_type": "markdown",
   "metadata": {},
   "source": [
    "method 2: Open directly"
   ]
  },
  {
   "cell_type": "code",
   "execution_count": null,
   "metadata": {},
   "outputs": [],
   "source": [
    "# Use .get_object()\n",
    "obj = s3.get_object(Bucket='gid-requests', Key='2020/file.csv')\n",
    "\n",
    "# Read StreamingBody into Pandas:\n",
    "pd.read_csv(obj['Body'])"
   ]
  },
  {
   "cell_type": "markdown",
   "metadata": {},
   "source": [
    "method 3: generate ***pre-signed URLs***  (Expire after a certain timeframe)"
   ]
  },
  {
   "cell_type": "code",
   "execution_count": null,
   "metadata": {},
   "outputs": [],
   "source": [
    "# Generate Presigned URL\n",
    "share_url = s3.generate_presigned_url(ClientMethod='get_object',\n",
    "                                      ExpiresIn=3600,\n",
    "                                      Params={'Bucket': 'gid-requests','Key': 'file.csv'})\n",
    "\n",
    "# Open in Pandas\n",
    "pd.read_csv(share_url)"
   ]
  },
  {
   "cell_type": "markdown",
   "metadata": {},
   "source": [
    "Example: Loading multiple files into one DataFrame"
   ]
  },
  {
   "cell_type": "code",
   "execution_count": null,
   "metadata": {},
   "outputs": [],
   "source": [
    "# Create list to hold our DataFrames\n",
    "df_list = []\n",
    "\n",
    "# Request the list of csv's from S3 with prefix; Get contents\n",
    "response = s3.list_objects(Bucket='gid-requests', Prefix='2020/')\n",
    "\n",
    "# Get response contents\n",
    "request_files = response['Contents']\n",
    "\n",
    "# Iterate over each object\n",
    "for file in request_files:\n",
    "    obj = s3.get_object(Bucket='gid-requests', Key=file['Key'])\n",
    "\n",
    "    # Read it as DataFrame\n",
    "    obj_df = pd.read_csv(obj['Body'])\n",
    "\n",
    "    # Append DataFrame to list\n",
    "    df_list.append(obj_df)\n",
    "\n",
    "# Concatenate all the DataFrames in the list\n",
    "df = pd.concat(df_list)\n",
    "\n",
    "# Preview the DataFrame\n",
    "df.head()"
   ]
  },
  {
   "cell_type": "markdown",
   "metadata": {},
   "source": [
    "#### A summary for sharing URLs\n",
    "\n",
    "Public files: public object url\n",
    "\n",
    "- using .format(): \n",
    "\n",
    "\n",
    "    'https://{bucket}.s3.amazonaws.com/{key}'\n",
    "\n",
    "\n",
    "Private files: presigned url\n",
    "\n",
    "- using .get_presigned_url(): \n",
    "\n",
    "     \n",
    "    'https://s3.amazonaws.com/?AWSAccessKeyId=12345&Signature=rBmnrwutb6VkJ9hE8Uub%2BBYA9mY%'"
   ]
  },
  {
   "cell_type": "markdown",
   "metadata": {},
   "source": [
    "### E. Sharing files through a website\n",
    "\n",
    "#### From dataframe to S3\n",
    "\n",
    "(1) Convert DataFrame to html"
   ]
  },
  {
   "cell_type": "code",
   "execution_count": null,
   "metadata": {},
   "outputs": [],
   "source": [
    "# Convert DataFrame to html\n",
    "df.to_html('table_agg.html')\n",
    "\n",
    "# Convert DataFrame to html with link\n",
    "df.to_html('table_agg.html', render_links=True)\n",
    "\n",
    "# Certain columns to html\n",
    "df.to_html('table_agg.html',\n",
    "           render_links=True,\n",
    "           columns['service_name', 'request_count', 'info_link'])\n",
    "\n",
    "# Certain columns to html without borders \n",
    "df.to_html('table_agg.html',\n",
    "           render_links=True,\n",
    "           columns['service_name', 'request_count', 'info_link'],\n",
    "           border=0)"
   ]
  },
  {
   "cell_type": "markdown",
   "metadata": {},
   "source": [
    "(2) Uploading an HTML file to S3"
   ]
  },
  {
   "cell_type": "code",
   "execution_count": null,
   "metadata": {},
   "outputs": [],
   "source": [
    "s3.upload_file(Filename='./table_agg.html',\n",
    "               Bucket='website',\n",
    "               Key='table.html',\n",
    "               ExtraArgs = {'ContentType': 'text/html','ACL': 'public-read'})"
   ]
  },
  {
   "cell_type": "markdown",
   "metadata": {},
   "source": [
    "(3) Accessing HTML files\n",
    "    \n",
    "    Example: https://website.s3.amazonaws.com/table.html"
   ]
  },
  {
   "cell_type": "markdown",
   "metadata": {},
   "source": [
    "(4) IANA Media Types\n",
    "\n",
    "- JSON : application/json\n",
    "\n",
    "\n",
    "- PNG : image/png\n",
    "\n",
    "\n",
    "- PDF : application/pdf\n",
    "\n",
    "\n",
    "- CSV : text/csv\n",
    "\n",
    "\n",
    "Example: Uploading an image file to S3"
   ]
  },
  {
   "cell_type": "code",
   "execution_count": null,
   "metadata": {},
   "outputs": [],
   "source": [
    "s3.upload_file(Filename='./plot_image.png',\n",
    "               Bucket='website',\n",
    "               Key='plot_image.png',\n",
    "               ExtraArgs = {'ContentType': 'image/png', 'ACL': 'public-read'})"
   ]
  },
  {
   "cell_type": "markdown",
   "metadata": {},
   "source": [
    "#### Generating an index page"
   ]
  },
  {
   "cell_type": "code",
   "execution_count": null,
   "metadata": {},
   "outputs": [],
   "source": [
    "# List the gid-reports bucket objects starting with 2020/\n",
    "r = s3.list_objects(Bucket='gid-reports', Prefix='2020/')\n",
    "\n",
    "# Convert the response contents to DataFrame\n",
    "objects_df = pd.DataFrame(r['Contents'])\n",
    "\n",
    "# Create a column \"Link\" that contains website url + key\n",
    "base_url = \"http://website.s3.amazonaws.com/\"\n",
    "objects_df['Link'] = base_url + objects_df['Key']\n",
    "\n",
    "# Write DataFrame to html\n",
    "objects_df.to_html('report.html',\n",
    "                   columns=['Link', 'LastModified', 'Size'],\n",
    "                   render_links=True)"
   ]
  },
  {
   "cell_type": "markdown",
   "metadata": {},
   "source": [
    "#### Uploading index page"
   ]
  },
  {
   "cell_type": "code",
   "execution_count": null,
   "metadata": {},
   "outputs": [],
   "source": [
    "s3.upload_file(Filename='./report.html',\n",
    "               Bucket='website',\n",
    "               Key='index.html',\n",
    "               ExtraArgs = {'ContentType': 'text/html', 'ACL': 'public-read'})"
   ]
  }
 ],
 "metadata": {
  "kernelspec": {
   "display_name": "Python 3",
   "language": "python",
   "name": "python3"
  },
  "language_info": {
   "codemirror_mode": {
    "name": "ipython",
    "version": 3
   },
   "file_extension": ".py",
   "mimetype": "text/x-python",
   "name": "python",
   "nbconvert_exporter": "python",
   "pygments_lexer": "ipython3",
   "version": "3.7.4"
  }
 },
 "nbformat": 4,
 "nbformat_minor": 2
}

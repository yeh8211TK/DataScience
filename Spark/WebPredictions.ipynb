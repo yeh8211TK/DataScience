{
 "cells": [
  {
   "cell_type": "code",
   "execution_count": 1,
   "metadata": {
    "collapsed": true
   },
   "outputs": [],
   "source": [
    "global Path\n",
    "if sc.master[0:5]==\"local\":\n",
    "    Path=\"file:///home/vmauser/pythonwork/PythonProject/\"\n",
    "else:\n",
    "    Path=\"file:/home/vmauser/\""
   ]
  },
  {
   "cell_type": "markdown",
   "metadata": {},
   "source": [
    "### Data preprocessing"
   ]
  },
  {
   "cell_type": "markdown",
   "metadata": {},
   "source": [
    "#### Importing data"
   ]
  },
  {
   "cell_type": "code",
   "execution_count": 2,
   "metadata": {},
   "outputs": [
    {
     "name": "stdout",
     "output_type": "stream",
     "text": [
      "7395\n"
     ]
    }
   ],
   "source": [
    "row_df=sqlContext.read.format(\"csv\").option(\"header\", \"true\").option(\n",
    "    \"delimiter\", \"\\t\").load(Path+\"data/train.tsv\")\n",
    "\n",
    "print(row_df.count())"
   ]
  },
  {
   "cell_type": "code",
   "execution_count": 3,
   "metadata": {},
   "outputs": [
    {
     "name": "stdout",
     "output_type": "stream",
     "text": [
      "root\n",
      " |-- url: string (nullable = true)\n",
      " |-- urlid: string (nullable = true)\n",
      " |-- boilerplate: string (nullable = true)\n",
      " |-- alchemy_category: string (nullable = true)\n",
      " |-- alchemy_category_score: string (nullable = true)\n",
      " |-- avglinksize: string (nullable = true)\n",
      " |-- commonlinkratio_1: string (nullable = true)\n",
      " |-- commonlinkratio_2: string (nullable = true)\n",
      " |-- commonlinkratio_3: string (nullable = true)\n",
      " |-- commonlinkratio_4: string (nullable = true)\n",
      " |-- compression_ratio: string (nullable = true)\n",
      " |-- embed_ratio: string (nullable = true)\n",
      " |-- framebased: string (nullable = true)\n",
      " |-- frameTagRatio: string (nullable = true)\n",
      " |-- hasDomainLink: string (nullable = true)\n",
      " |-- html_ratio: string (nullable = true)\n",
      " |-- image_ratio: string (nullable = true)\n",
      " |-- is_news: string (nullable = true)\n",
      " |-- lengthyLinkDomain: string (nullable = true)\n",
      " |-- linkwordscore: string (nullable = true)\n",
      " |-- news_front_page: string (nullable = true)\n",
      " |-- non_markup_alphanum_characters: string (nullable = true)\n",
      " |-- numberOfLinks: string (nullable = true)\n",
      " |-- numwords_in_url: string (nullable = true)\n",
      " |-- parametrizedLinkRatio: string (nullable = true)\n",
      " |-- spelling_errors_ratio: string (nullable = true)\n",
      " |-- label: string (nullable = true)\n",
      "\n"
     ]
    }
   ],
   "source": [
    "row_df.printSchema()"
   ]
  },
  {
   "cell_type": "code",
   "execution_count": 4,
   "metadata": {},
   "outputs": [
    {
     "name": "stdout",
     "output_type": "stream",
     "text": [
      "+--------------------+------------------+----------------------+-------+-----+\n",
      "|                 url|  alchemy_category|alchemy_category_score|is_news|label|\n",
      "+--------------------+------------------+----------------------+-------+-----+\n",
      "|http://www.bloomb...|          business|              0.789131|      1|    0|\n",
      "|http://www.popsci...|        recreation|              0.574147|      1|    1|\n",
      "|http://www.menshe...|            health|              0.996526|      1|    1|\n",
      "|http://www.dumbli...|            health|              0.801248|      1|    1|\n",
      "|http://bleacherre...|            sports|              0.719157|      1|    0|\n",
      "|http://www.conven...|                 ?|                     ?|      ?|    0|\n",
      "|http://gofashionl...|arts_entertainment|               0.22111|      1|    1|\n",
      "|http://www.inside...|                 ?|                     ?|      ?|    0|\n",
      "|http://www.valetm...|                 ?|                     ?|      1|    1|\n",
      "|http://www.howswe...|                 ?|                     ?|      ?|    1|\n",
      "+--------------------+------------------+----------------------+-------+-----+\n",
      "only showing top 10 rows\n",
      "\n"
     ]
    }
   ],
   "source": [
    "row_df.select(\"url\", \"alchemy_category\", \"alchemy_category_score\", \"is_news\", \"label\").show(10)"
   ]
  },
  {
   "cell_type": "markdown",
   "metadata": {},
   "source": [
    "#### Type transformation"
   ]
  },
  {
   "cell_type": "code",
   "execution_count": 5,
   "metadata": {},
   "outputs": [],
   "source": [
    "from pyspark.sql.functions import udf\n",
    "\n",
    "def replace_question(x):\n",
    "    return (\"0\" if x==\"?\" else x)\n",
    "\n",
    "replace_question=udf(replace_question)"
   ]
  },
  {
   "cell_type": "code",
   "execution_count": 6,
   "metadata": {},
   "outputs": [
    {
     "name": "stdout",
     "output_type": "stream",
     "text": [
      "root\n",
      " |-- url: string (nullable = true)\n",
      " |-- alchemy_category: string (nullable = true)\n",
      " |-- alchemy_category_score: double (nullable = true)\n",
      " |-- avglinksize: double (nullable = true)\n",
      " |-- commonlinkratio_1: double (nullable = true)\n",
      " |-- commonlinkratio_2: double (nullable = true)\n",
      " |-- commonlinkratio_3: double (nullable = true)\n",
      " |-- commonlinkratio_4: double (nullable = true)\n",
      " |-- compression_ratio: double (nullable = true)\n",
      " |-- embed_ratio: double (nullable = true)\n",
      " |-- framebased: double (nullable = true)\n",
      " |-- frameTagRatio: double (nullable = true)\n",
      " |-- hasDomainLink: double (nullable = true)\n",
      " |-- html_ratio: double (nullable = true)\n",
      " |-- image_ratio: double (nullable = true)\n",
      " |-- is_news: double (nullable = true)\n",
      " |-- lengthyLinkDomain: double (nullable = true)\n",
      " |-- linkwordscore: double (nullable = true)\n",
      " |-- news_front_page: double (nullable = true)\n",
      " |-- non_markup_alphanum_characters: double (nullable = true)\n",
      " |-- numberOfLinks: double (nullable = true)\n",
      " |-- numwords_in_url: double (nullable = true)\n",
      " |-- parametrizedLinkRatio: double (nullable = true)\n",
      " |-- spelling_errors_ratio: double (nullable = true)\n",
      " |-- label: double (nullable = true)\n",
      "\n",
      "None\n"
     ]
    }
   ],
   "source": [
    "from pyspark.sql.functions import col\n",
    "import pyspark.sql.types\n",
    "\n",
    "df=row_df.select([\"url\", \"alchemy_category\"]+\n",
    "                 [replace_question(col(column)).cast(\"double\").alias(column) \n",
    "                  for column in row_df.columns[4:]])\n",
    "\n",
    "print df.printSchema()"
   ]
  },
  {
   "cell_type": "code",
   "execution_count": 7,
   "metadata": {},
   "outputs": [
    {
     "name": "stdout",
     "output_type": "stream",
     "text": [
      "+--------------------+------------------+----------------------+-------+-----+\n",
      "|                 url|  alchemy_category|alchemy_category_score|is_news|label|\n",
      "+--------------------+------------------+----------------------+-------+-----+\n",
      "|http://www.bloomb...|          business|              0.789131|    1.0|  0.0|\n",
      "|http://www.popsci...|        recreation|              0.574147|    1.0|  1.0|\n",
      "|http://www.menshe...|            health|              0.996526|    1.0|  1.0|\n",
      "|http://www.dumbli...|            health|              0.801248|    1.0|  1.0|\n",
      "|http://bleacherre...|            sports|              0.719157|    1.0|  0.0|\n",
      "|http://www.conven...|                 ?|                   0.0|    0.0|  0.0|\n",
      "|http://gofashionl...|arts_entertainment|               0.22111|    1.0|  1.0|\n",
      "|http://www.inside...|                 ?|                   0.0|    0.0|  0.0|\n",
      "|http://www.valetm...|                 ?|                   0.0|    1.0|  1.0|\n",
      "|http://www.howswe...|                 ?|                   0.0|    0.0|  1.0|\n",
      "+--------------------+------------------+----------------------+-------+-----+\n",
      "only showing top 10 rows\n",
      "\n"
     ]
    }
   ],
   "source": [
    "df.select(\"url\", \"alchemy_category\", \"alchemy_category_score\", \"is_news\", \"label\").show(10)"
   ]
  },
  {
   "cell_type": "markdown",
   "metadata": {},
   "source": [
    "#### Train/test splitting"
   ]
  },
  {
   "cell_type": "code",
   "execution_count": 8,
   "metadata": {},
   "outputs": [
    {
     "data": {
      "text/plain": [
       "DataFrame[url: string, alchemy_category: string, alchemy_category_score: double, avglinksize: double, commonlinkratio_1: double, commonlinkratio_2: double, commonlinkratio_3: double, commonlinkratio_4: double, compression_ratio: double, embed_ratio: double, framebased: double, frameTagRatio: double, hasDomainLink: double, html_ratio: double, image_ratio: double, is_news: double, lengthyLinkDomain: double, linkwordscore: double, news_front_page: double, non_markup_alphanum_characters: double, numberOfLinks: double, numwords_in_url: double, parametrizedLinkRatio: double, spelling_errors_ratio: double, label: double]"
      ]
     },
     "execution_count": 8,
     "metadata": {},
     "output_type": "execute_result"
    }
   ],
   "source": [
    "train_df, test_df=df.randomSplit([0.7, 0.3])\n",
    "train_df.cache()\n",
    "test_df.cache()"
   ]
  },
  {
   "cell_type": "markdown",
   "metadata": {},
   "source": [
    "### Feature engineering"
   ]
  },
  {
   "cell_type": "markdown",
   "metadata": {},
   "source": [
    "#### StringIndexer"
   ]
  },
  {
   "cell_type": "code",
   "execution_count": 9,
   "metadata": {},
   "outputs": [
    {
     "name": "stdout",
     "output_type": "stream",
     "text": [
      "0:?\n",
      "1:recreation\n",
      "2:arts_entertainment\n",
      "3:business\n",
      "4:health\n",
      "5:sports\n",
      "6:culture_politics\n",
      "7:computer_internet\n",
      "8:science_technology\n",
      "9:gaming\n",
      "10:religion\n",
      "11:law_crime\n",
      "12:unknown\n",
      "13:weather\n"
     ]
    }
   ],
   "source": [
    "from pyspark.ml.feature import StringIndexer\n",
    "\n",
    "categoryIndexer=StringIndexer(inputCol=\"alchemy_category\", outputCol=\"alchemy_category_Index\")\n",
    "caregoryTransfomer=categoryIndexer.fit(df)\n",
    "\n",
    "for i in range(0, len(caregoryTransfomer.labels)):\n",
    "    print(str(i)+\":\"+caregoryTransfomer.labels[i])"
   ]
  },
  {
   "cell_type": "code",
   "execution_count": 10,
   "metadata": {},
   "outputs": [
    {
     "name": "stdout",
     "output_type": "stream",
     "text": [
      "['url', 'alchemy_category', 'alchemy_category_score', 'avglinksize', 'commonlinkratio_1', 'commonlinkratio_2', 'commonlinkratio_3', 'commonlinkratio_4', 'compression_ratio', 'embed_ratio', 'framebased', 'frameTagRatio', 'hasDomainLink', 'html_ratio', 'image_ratio', 'is_news', 'lengthyLinkDomain', 'linkwordscore', 'news_front_page', 'non_markup_alphanum_characters', 'numberOfLinks', 'numwords_in_url', 'parametrizedLinkRatio', 'spelling_errors_ratio', 'label', 'alchemy_category_Index']\n"
     ]
    }
   ],
   "source": [
    "df1=caregoryTransfomer.transform(train_df)\n",
    "print(df1.columns)"
   ]
  },
  {
   "cell_type": "code",
   "execution_count": 11,
   "metadata": {},
   "outputs": [
    {
     "name": "stdout",
     "output_type": "stream",
     "text": [
      "+------------------+----------------------+\n",
      "|  alchemy_category|alchemy_category_Index|\n",
      "+------------------+----------------------+\n",
      "|                 ?|                   0.0|\n",
      "|arts_entertainment|                   2.0|\n",
      "|        recreation|                   1.0|\n",
      "|                 ?|                   0.0|\n",
      "|                 ?|                   0.0|\n",
      "|                 ?|                   0.0|\n",
      "|          business|                   3.0|\n",
      "|arts_entertainment|                   2.0|\n",
      "|                 ?|                   0.0|\n",
      "|arts_entertainment|                   2.0|\n",
      "+------------------+----------------------+\n",
      "only showing top 10 rows\n",
      "\n"
     ]
    }
   ],
   "source": [
    "df1.select(\"alchemy_category\", \"alchemy_category_Index\").show(10)"
   ]
  },
  {
   "cell_type": "markdown",
   "metadata": {},
   "source": [
    "#### OneHotEncoder"
   ]
  },
  {
   "cell_type": "code",
   "execution_count": 12,
   "metadata": {},
   "outputs": [
    {
     "name": "stdout",
     "output_type": "stream",
     "text": [
      "['url', 'alchemy_category', 'alchemy_category_score', 'avglinksize', 'commonlinkratio_1', 'commonlinkratio_2', 'commonlinkratio_3', 'commonlinkratio_4', 'compression_ratio', 'embed_ratio', 'framebased', 'frameTagRatio', 'hasDomainLink', 'html_ratio', 'image_ratio', 'is_news', 'lengthyLinkDomain', 'linkwordscore', 'news_front_page', 'non_markup_alphanum_characters', 'numberOfLinks', 'numwords_in_url', 'parametrizedLinkRatio', 'spelling_errors_ratio', 'label', 'alchemy_category_Index', 'alchemy_category_IndexVec']\n"
     ]
    }
   ],
   "source": [
    "from pyspark.ml.feature import OneHotEncoder\n",
    "\n",
    "encoder=OneHotEncoder(dropLast=False, inputCol=\"alchemy_category_Index\",\n",
    "                      outputCol=\"alchemy_category_IndexVec\")\n",
    "\n",
    "df2=encoder.transform(df1)\n",
    "print(df2.columns)"
   ]
  },
  {
   "cell_type": "code",
   "execution_count": 13,
   "metadata": {},
   "outputs": [
    {
     "name": "stdout",
     "output_type": "stream",
     "text": [
      "+------------------+----------------------+-------------------------+\n",
      "|  alchemy_category|alchemy_category_Index|alchemy_category_IndexVec|\n",
      "+------------------+----------------------+-------------------------+\n",
      "|                 ?|                   0.0|           (14,[0],[1.0])|\n",
      "|arts_entertainment|                   2.0|           (14,[2],[1.0])|\n",
      "|        recreation|                   1.0|           (14,[1],[1.0])|\n",
      "|                 ?|                   0.0|           (14,[0],[1.0])|\n",
      "|                 ?|                   0.0|           (14,[0],[1.0])|\n",
      "|                 ?|                   0.0|           (14,[0],[1.0])|\n",
      "|          business|                   3.0|           (14,[3],[1.0])|\n",
      "|arts_entertainment|                   2.0|           (14,[2],[1.0])|\n",
      "|                 ?|                   0.0|           (14,[0],[1.0])|\n",
      "|arts_entertainment|                   2.0|           (14,[2],[1.0])|\n",
      "+------------------+----------------------+-------------------------+\n",
      "only showing top 10 rows\n",
      "\n"
     ]
    }
   ],
   "source": [
    "df2.select(\"alchemy_category\", \"alchemy_category_Index\", \"alchemy_category_IndexVec\").show(10)"
   ]
  },
  {
   "cell_type": "markdown",
   "metadata": {},
   "source": [
    "#### VectorAssembler"
   ]
  },
  {
   "cell_type": "code",
   "execution_count": 14,
   "metadata": {},
   "outputs": [
    {
     "name": "stdout",
     "output_type": "stream",
     "text": [
      "['alchemy_category_IndexVec', 'alchemy_category_score', 'avglinksize', 'commonlinkratio_1', 'commonlinkratio_2', 'commonlinkratio_3', 'commonlinkratio_4', 'compression_ratio', 'embed_ratio', 'framebased', 'frameTagRatio', 'hasDomainLink', 'html_ratio', 'image_ratio', 'is_news', 'lengthyLinkDomain', 'linkwordscore', 'news_front_page', 'non_markup_alphanum_characters', 'numberOfLinks', 'numwords_in_url', 'parametrizedLinkRatio', 'spelling_errors_ratio']\n"
     ]
    }
   ],
   "source": [
    "from pyspark.ml.feature import VectorAssembler\n",
    "\n",
    "assemblerInputs=[\"alchemy_category_IndexVec\"]+df.columns[2:-1]\n",
    "print(assemblerInputs)"
   ]
  },
  {
   "cell_type": "code",
   "execution_count": 15,
   "metadata": {},
   "outputs": [
    {
     "name": "stdout",
     "output_type": "stream",
     "text": [
      "['url', 'alchemy_category', 'alchemy_category_score', 'avglinksize', 'commonlinkratio_1', 'commonlinkratio_2', 'commonlinkratio_3', 'commonlinkratio_4', 'compression_ratio', 'embed_ratio', 'framebased', 'frameTagRatio', 'hasDomainLink', 'html_ratio', 'image_ratio', 'is_news', 'lengthyLinkDomain', 'linkwordscore', 'news_front_page', 'non_markup_alphanum_characters', 'numberOfLinks', 'numwords_in_url', 'parametrizedLinkRatio', 'spelling_errors_ratio', 'label', 'alchemy_category_Index', 'alchemy_category_IndexVec', 'features']\n"
     ]
    }
   ],
   "source": [
    "assembler=VectorAssembler(inputCols=assemblerInputs, outputCol=\"features\")\n",
    "df3=assembler.transform(df2)\n",
    "print(df3.columns)"
   ]
  },
  {
   "cell_type": "code",
   "execution_count": 16,
   "metadata": {},
   "outputs": [
    {
     "name": "stdout",
     "output_type": "stream",
     "text": [
      "+--------------------+\n",
      "|            features|\n",
      "+--------------------+\n",
      "|(36,[0,15,16,17,1...|\n",
      "|(36,[2,14,15,16,1...|\n",
      "|(36,[1,14,15,16,1...|\n",
      "|(36,[0,15,20,23,2...|\n",
      "|(36,[0,15,16,20,2...|\n",
      "+--------------------+\n",
      "only showing top 5 rows\n",
      "\n"
     ]
    },
    {
     "data": {
      "text/plain": [
       "[Row(features=SparseVector(36, {0: 1.0, 15: 2.1446, 16: 0.7969, 17: 0.3945, 18: 0.332, 19: 0.3203, 20: 0.5022, 23: 0.028, 25: 0.1898, 26: 0.2354, 27: 1.0, 28: 1.0, 29: 17.0, 31: 10588.0, 32: 256.0, 33: 5.0, 34: 0.3828, 35: 0.1368}))]"
      ]
     },
     "execution_count": 16,
     "metadata": {},
     "output_type": "execute_result"
    }
   ],
   "source": [
    "df3.select(\"features\").show(5)\n",
    "df3.select(\"features\").take(1)"
   ]
  },
  {
   "cell_type": "markdown",
   "metadata": {},
   "source": [
    "### Modeling"
   ]
  },
  {
   "cell_type": "code",
   "execution_count": 17,
   "metadata": {},
   "outputs": [
    {
     "name": "stdout",
     "output_type": "stream",
     "text": [
      "DecisionTreeClassificationModel (uid=DecisionTreeClassifier_542ab18a40af) of depth 10 with 583 nodes\n"
     ]
    }
   ],
   "source": [
    "from pyspark.ml.classification import DecisionTreeClassifier\n",
    "\n",
    "dt=DecisionTreeClassifier(labelCol=\"label\", featuresCol=\"features\",\n",
    "                          impurity=\"gini\", maxDepth=10, maxBins=14)\n",
    "\n",
    "dt_model=dt.fit(df3)\n",
    "print(dt_model)\n",
    "\n",
    "#df4=dt_model.transform(df3)"
   ]
  },
  {
   "cell_type": "markdown",
   "metadata": {},
   "source": [
    "### Using ML pipeline"
   ]
  },
  {
   "cell_type": "markdown",
   "metadata": {},
   "source": [
    "#### Decision tree"
   ]
  },
  {
   "cell_type": "code",
   "execution_count": 18,
   "metadata": {},
   "outputs": [
    {
     "data": {
      "text/plain": [
       "[StringIndexer_27bfadd9eeed,\n",
       " OneHotEncoder_28f094c74628,\n",
       " VectorAssembler_288fe2731d0c,\n",
       " DecisionTreeClassifier_c6fe4b5e1f3b]"
      ]
     },
     "execution_count": 18,
     "metadata": {},
     "output_type": "execute_result"
    }
   ],
   "source": [
    "from pyspark.ml import Pipeline\n",
    "from pyspark.ml.feature import StringIndexer, OneHotEncoder, VectorAssembler\n",
    "from pyspark.ml.classification import DecisionTreeClassifier\n",
    "from pyspark.ml.evaluation import BinaryClassificationEvaluator\n",
    "\n",
    "categoryIndexer=StringIndexer(inputCol=\"alchemy_category\", outputCol=\"alchemy_category_Index\")\n",
    "\n",
    "encoder=OneHotEncoder(dropLast=False, inputCol=\"alchemy_category_Index\", \n",
    "                      outputCol=\"alchemy_category_IndexVec\")\n",
    "\n",
    "assemblerInputs=[\"alchemy_category_IndexVec\"]+df.columns[2:-1]\n",
    "assembler=VectorAssembler(inputCols=assemblerInputs, outputCol=\"features\")\n",
    "\n",
    "dt=DecisionTreeClassifier(labelCol=\"label\", featuresCol=\"features\", \n",
    "                          impurity=\"gini\", maxDepth=10, maxBins=14)\n",
    "\n",
    "pipeline=Pipeline(stages=[categoryIndexer, encoder, assembler, dt])\n",
    "pipeline.getStages()"
   ]
  },
  {
   "cell_type": "code",
   "execution_count": 19,
   "metadata": {
    "collapsed": true
   },
   "outputs": [],
   "source": [
    "pipelineModel=pipeline.fit(train_df)"
   ]
  },
  {
   "cell_type": "code",
   "execution_count": 20,
   "metadata": {},
   "outputs": [
    {
     "data": {
      "text/plain": [
       "u'DecisionTreeClassificationModel (uid=DecisionTreeClassifier_c6fe4b5e1f3b) of depth 10 with 583 nodes\\n  If (feature 31 <= 2321.5)\\n   If (feature 31 <= 1307.5)\\n    If (feature 4 in {1.0})\\n     If (feature 23 <= 0.1183033225)\\n      If (feature 29 <= 65.5)\\n       If (feature 35 <= 0.0547604445)\\n        Predict: 0.0\\n       Else (feature 35 > 0.0547604445)\\n        If (feature 33 <= 9.5)\\n         Predict: 1.0\\n        Else (feature 33 > 9.5)\\n         If (feature 16 <= 0.31650122950000004)\\n          Predict: 1.0\\n         Else (feature 16 > 0.31650122950000004)\\n          Predict: 0.0\\n      Else (feature 29 > 65.5)\\n       If (feature 14 <= 0.4619955)\\n        Predict: 0.0\\n       Else (feature 14 > 0.4619955)\\n        If (feature 19 <= 0.022753158)\\n         Predict: 0.0\\n        Else (feature 19 > 0.022753158)\\n         Predict: 1.0\\n     Else (feature 23 > 0.1183033225)\\n      If (feature 35 <= 0.1322986505)\\n       Predict: 0.0\\n      Else (feature 35 > 0.1322986505)\\n       If (feature 16 <= 0.140688259)\\n        Predict: 1.0\\n       Else (feature 16 > 0.140688259)\\n        If (feature 14 <= 0.8022944999999999)\\n         Predict: 0.0\\n        Else (feature 14 > 0.8022944999999999)\\n         Predict: 1.0\\n    Else (feature 4 not in {1.0})\\n     If (feature 23 <= 0.035435308)\\n      If (feature 16 <= 0.761501624)\\n       If (feature 34 <= 0.033222958)\\n        If (feature 14 <= 0.2257335)\\n         If (feature 15 <= 2.5409605390000003)\\n          If (feature 17 <= 0.178657695)\\n           Predict: 0.0\\n          Else (feature 17 > 0.178657695)\\n           If (feature 20 <= 16.0)\\n            Predict: 0.0\\n           Else (feature 20 > 16.0)\\n            Predict: 1.0\\n         Else (feature 15 > 2.5409605390000003)\\n          Predict: 1.0\\n        Else (feature 14 > 0.2257335)\\n         If (feature 32 <= 122.5)\\n          If (feature 35 <= 0.0835544325)\\n           If (feature 16 <= 0.484961556)\\n            Predict: 1.0\\n           Else (feature 16 > 0.484961556)\\n            Predict: 0.0\\n          Else (feature 35 > 0.0835544325)\\n           If (feature 29 <= 25.5)\\n            Predict: 1.0\\n           Else (feature 29 > 25.5)\\n            Predict: 0.0\\n         Else (feature 32 > 122.5)\\n          Predict: 1.0\\n       Else (feature 34 > 0.033222958)\\n        If (feature 35 <= 0.117787046)\\n         If (feature 25 <= 0.239583855)\\n          If (feature 3 in {1.0})\\n           If (feature 25 <= 0.2051007465)\\n            Predict: 1.0\\n           Else (feature 25 > 0.2051007465)\\n            Predict: 0.0\\n          Else (feature 3 not in {1.0})\\n           Predict: 0.0\\n         Else (feature 25 > 0.239583855)\\n          If (feature 34 <= 0.066482505)\\n           Predict: 0.0\\n          Else (feature 34 > 0.066482505)\\n           If (feature 17 <= 0.1526070645)\\n            Predict: 0.0\\n           Else (feature 17 > 0.1526070645)\\n            Predict: 1.0\\n        Else (feature 35 > 0.117787046)\\n         If (feature 32 <= 27.5)\\n          Predict: 0.0\\n         Else (feature 32 > 27.5)\\n          If (feature 32 <= 245.5)\\n           If (feature 14 <= 0.6059464999999999)\\n            Predict: 1.0\\n           Else (feature 14 > 0.6059464999999999)\\n            Predict: 0.0\\n          Else (feature 32 > 245.5)\\n           If (feature 16 <= 0.638070673)\\n            Predict: 0.0\\n           Else (feature 16 > 0.638070673)\\n            Predict: 1.0\\n      Else (feature 16 > 0.761501624)\\n       If (feature 25 <= 0.2653115355)\\n        If (feature 7 in {1.0})\\n         Predict: 0.0\\n        Else (feature 7 not in {1.0})\\n         If (feature 15 <= 2.3774164375)\\n          If (feature 15 <= 2.2382783880000003)\\n           Predict: 1.0\\n          Else (feature 15 > 2.2382783880000003)\\n           Predict: 0.0\\n         Else (feature 15 > 2.3774164375)\\n          Predict: 1.0\\n       Else (feature 25 > 0.2653115355)\\n        Predict: 0.0\\n     Else (feature 23 > 0.035435308)\\n      If (feature 2 in {1.0})\\n       If (feature 35 <= 0.169361147)\\n        If (feature 32 <= 206.5)\\n         If (feature 33 <= 5.5)\\n          If (feature 17 <= 0.2292622325)\\n           Predict: 0.0\\n          Else (feature 17 > 0.2292622325)\\n           If (feature 16 <= 0.5173012450000001)\\n            Predict: 1.0\\n           Else (feature 16 > 0.5173012450000001)\\n            Predict: 0.0\\n         Else (feature 33 > 5.5)\\n          If (feature 20 <= 0.3915233405)\\n           If (feature 14 <= 0.6059464999999999)\\n            Predict: 0.0\\n           Else (feature 14 > 0.6059464999999999)\\n            Predict: 1.0\\n          Else (feature 20 > 0.3915233405)\\n           Predict: 0.0\\n        Else (feature 32 > 206.5)\\n         Predict: 1.0\\n       Else (feature 35 > 0.169361147)\\n        If (feature 14 <= 0.3666935)\\n         Predict: 0.0\\n        Else (feature 14 > 0.3666935)\\n         If (feature 14 <= 0.7335315)\\n          If (feature 14 <= 0.538359)\\n           If (feature 23 <= 0.0782763425)\\n            Predict: 1.0\\n           Else (feature 23 > 0.0782763425)\\n            Predict: 0.0\\n          Else (feature 14 > 0.538359)\\n           Predict: 1.0\\n         Else (feature 14 > 0.7335315)\\n          Predict: 0.0\\n      Else (feature 2 not in {1.0})\\n       If (feature 16 <= 0.140688259)\\n        If (feature 23 <= 0.094102923)\\n         If (feature 20 <= 0.6193165205)\\n          If (feature 20 <= 0.45029501)\\n           If (feature 1 in {0.0})\\n            Predict: 0.0\\n           Else (feature 1 not in {0.0})\\n            Predict: 1.0\\n          Else (feature 20 > 0.45029501)\\n           If (feature 33 <= 1.5)\\n            Predict: 0.0\\n           Else (feature 33 > 1.5)\\n            Predict: 1.0\\n         Else (feature 20 > 0.6193165205)\\n          If (feature 26 <= 0.46120401349999995)\\n           If (feature 29 <= 9.5)\\n            Predict: 0.0\\n           Else (feature 29 > 9.5)\\n            Predict: 1.0\\n          Else (feature 26 > 0.46120401349999995)\\n           Predict: 0.0\\n        Else (feature 23 > 0.094102923)\\n         If (feature 20 <= 0.559562363)\\n          If (feature 17 <= 0.055459439)\\n           Predict: 0.0\\n          Else (feature 17 > 0.055459439)\\n           Predict: 1.0\\n         Else (feature 20 > 0.559562363)\\n          If (feature 25 <= 0.255862062)\\n           If (feature 5 in {0.0})\\n            Predict: 0.0\\n           Else (feature 5 not in {0.0})\\n            Predict: 1.0\\n          Else (feature 25 > 0.255862062)\\n           If (feature 23 <= 0.1183033225)\\n            Predict: 1.0\\n           Else (feature 23 > 0.1183033225)\\n            Predict: 0.0\\n       Else (feature 16 > 0.140688259)\\n        If (feature 32 <= 27.5)\\n         If (feature 29 <= 34.5)\\n          If (feature 3 in {1.0})\\n           Predict: 1.0\\n          Else (feature 3 not in {1.0})\\n           If (feature 33 <= 6.5)\\n            Predict: 0.0\\n           Else (feature 33 > 6.5)\\n            Predict: 1.0\\n         Else (feature 29 > 34.5)\\n          If (feature 29 <= 65.5)\\n           Predict: 0.0\\n          Else (feature 29 > 65.5)\\n           If (feature 5 in {1.0})\\n            Predict: 1.0\\n           Else (feature 5 not in {1.0})\\n            Predict: 0.0\\n        Else (feature 32 > 27.5)\\n         If (feature 1 in {1.0})\\n          If (feature 19 <= 4.04E-4)\\n           If (feature 33 <= 0.5)\\n            Predict: 1.0\\n           Else (feature 33 > 0.5)\\n            Predict: 0.0\\n          Else (feature 19 > 4.04E-4)\\n           If (feature 15 <= 1.8576759059999999)\\n            Predict: 1.0\\n           Else (feature 15 > 1.8576759059999999)\\n            Predict: 0.0\\n         Else (feature 1 not in {1.0})\\n          If (feature 18 <= 0.23884742949999999)\\n           Predict: 0.0\\n          Else (feature 18 > 0.23884742949999999)\\n           If (feature 14 <= 0.3666935)\\n            Predict: 1.0\\n           Else (feature 14 > 0.3666935)\\n            Predict: 0.0\\n   Else (feature 31 > 1307.5)\\n    If (feature 1 in {1.0})\\n     If (feature 34 <= 0.3492687865)\\n      If (feature 35 <= 0.065323649)\\n       If (feature 23 <= 0.1183033225)\\n        If (feature 20 <= 0.7687758520000001)\\n         Predict: 1.0\\n        Else (feature 20 > 0.7687758520000001)\\n         If (feature 14 <= 0.3666935)\\n          Predict: 1.0\\n         Else (feature 14 > 0.3666935)\\n          Predict: 0.0\\n       Else (feature 23 > 0.1183033225)\\n        Predict: 0.0\\n      Else (feature 35 > 0.065323649)\\n       If (feature 33 <= 6.5)\\n        If (feature 14 <= 0.8499995)\\n         If (feature 21 <= 9.0E-5)\\n          Predict: 1.0\\n         Else (feature 21 > 9.0E-5)\\n          Predict: 0.0\\n        Else (feature 14 > 0.8499995)\\n         Predict: 0.0\\n       Else (feature 33 > 6.5)\\n        If (feature 25 <= 0.2051007465)\\n         Predict: 1.0\\n        Else (feature 25 > 0.2051007465)\\n         Predict: 0.0\\n     Else (feature 34 > 0.3492687865)\\n      If (feature 23 <= 0.0597866705)\\n       If (feature 14 <= 0.3666935)\\n        Predict: 1.0\\n       Else (feature 14 > 0.3666935)\\n        Predict: 0.0\\n      Else (feature 23 > 0.0597866705)\\n       Predict: 1.0\\n    Else (feature 1 not in {1.0})\\n     If (feature 5 in {1.0})\\n      If (feature 20 <= 0.473316041)\\n       If (feature 14 <= 0.4619955)\\n        Predict: 1.0\\n       Else (feature 14 > 0.4619955)\\n        Predict: 0.0\\n      Else (feature 20 > 0.473316041)\\n       If (feature 34 <= 0.3492687865)\\n        Predict: 0.0\\n       Else (feature 34 > 0.3492687865)\\n        If (feature 14 <= 0.6059464999999999)\\n         Predict: 1.0\\n        Else (feature 14 > 0.6059464999999999)\\n         Predict: 0.0\\n     Else (feature 5 not in {1.0})\\n      If (feature 32 <= 297.5)\\n       If (feature 33 <= 8.5)\\n        If (feature 29 <= 46.5)\\n         If (feature 35 <= 0.0952169125)\\n          If (feature 32 <= 27.5)\\n           If (feature 16 <= 0.638070673)\\n            Predict: 1.0\\n           Else (feature 16 > 0.638070673)\\n            Predict: 0.0\\n          Else (feature 32 > 27.5)\\n           If (feature 25 <= 0.2776930865)\\n            Predict: 1.0\\n           Else (feature 25 > 0.2776930865)\\n            Predict: 0.0\\n         Else (feature 35 > 0.0952169125)\\n          If (feature 23 <= 0.015053832999999999)\\n           If (feature 3 in {1.0})\\n            Predict: 0.0\\n           Else (feature 3 not in {1.0})\\n            Predict: 1.0\\n          Else (feature 23 > 0.015053832999999999)\\n           Predict: 0.0\\n        Else (feature 29 > 46.5)\\n         If (feature 26 <= 0.28604963149999996)\\n          If (feature 17 <= 0.439311154)\\n           If (feature 16 <= 0.4107625485)\\n            Predict: 0.0\\n           Else (feature 16 > 0.4107625485)\\n            Predict: 1.0\\n          Else (feature 17 > 0.439311154)\\n           If (feature 23 <= 0.035435308)\\n            Predict: 1.0\\n           Else (feature 23 > 0.035435308)\\n            Predict: 0.0\\n         Else (feature 26 > 0.28604963149999996)\\n          If (feature 14 <= 0.03541665)\\n           If (feature 34 <= 0.1393691005)\\n            Predict: 0.0\\n           Else (feature 34 > 0.1393691005)\\n            Predict: 1.0\\n          Else (feature 14 > 0.03541665)\\n           Predict: 0.0\\n       Else (feature 33 > 8.5)\\n        If (feature 3 in {1.0})\\n         If (feature 15 <= 2.7592282175)\\n          Predict: 1.0\\n         Else (feature 15 > 2.7592282175)\\n          Predict: 0.0\\n        Else (feature 3 not in {1.0})\\n         If (feature 15 <= 3.7978479855)\\n          If (feature 25 <= 0.2051007465)\\n           If (feature 14 <= 0.4619955)\\n            Predict: 1.0\\n           Else (feature 14 > 0.4619955)\\n            Predict: 0.0\\n          Else (feature 25 > 0.2051007465)\\n           Predict: 0.0\\n         Else (feature 15 > 3.7978479855)\\n          Predict: 1.0\\n      Else (feature 32 > 297.5)\\n       If (feature 16 <= 0.5173012450000001)\\n        If (feature 15 <= 1.3346354164999998)\\n         Predict: 1.0\\n        Else (feature 15 > 1.3346354164999998)\\n         Predict: 0.0\\n       Else (feature 16 > 0.5173012450000001)\\n        If (feature 20 <= 0.4617540025)\\n         If (feature 14 <= 0.4619955)\\n          Predict: 0.0\\n         Else (feature 14 > 0.4619955)\\n          If (feature 2 in {1.0})\\n           Predict: 0.0\\n          Else (feature 2 not in {1.0})\\n           Predict: 1.0\\n        Else (feature 20 > 0.4617540025)\\n         If (feature 25 <= 0.222464158)\\n          If (feature 34 <= 0.173227031)\\n           Predict: 1.0\\n          Else (feature 34 > 0.173227031)\\n           Predict: 0.0\\n         Else (feature 25 > 0.222464158)\\n          Predict: 0.0\\n  Else (feature 31 > 2321.5)\\n   If (feature 3 in {1.0})\\n    If (feature 15 <= 2.5409605390000003)\\n     If (feature 26 <= 0.03250565)\\n      If (feature 20 <= 0.45029501)\\n       If (feature 35 <= 0.117787046)\\n        If (feature 29 <= 15.5)\\n         If (feature 14 <= 0.3666935)\\n          Predict: 0.0\\n         Else (feature 14 > 0.3666935)\\n          If (feature 21 <= 9.0E-5)\\n           Predict: 1.0\\n          Else (feature 21 > 9.0E-5)\\n           Predict: 0.0\\n        Else (feature 29 > 15.5)\\n         If (feature 14 <= 0.6059464999999999)\\n          If (feature 15 <= 2.3774164375)\\n           Predict: 1.0\\n          Else (feature 15 > 2.3774164375)\\n           Predict: 0.0\\n         Else (feature 14 > 0.6059464999999999)\\n          If (feature 32 <= 401.5)\\n           Predict: 0.0\\n          Else (feature 32 > 401.5)\\n           Predict: 1.0\\n       Else (feature 35 > 0.117787046)\\n        Predict: 0.0\\n      Else (feature 20 > 0.45029501)\\n       If (feature 15 <= 2.3774164375)\\n        If (feature 23 <= 0.0684144485)\\n         If (feature 29 <= 29.5)\\n          Predict: 1.0\\n         Else (feature 29 > 29.5)\\n          If (feature 14 <= 0.4619955)\\n           Predict: 0.0\\n          Else (feature 14 > 0.4619955)\\n           Predict: 1.0\\n        Else (feature 23 > 0.0684144485)\\n         If (feature 20 <= 0.4617540025)\\n          If (feature 16 <= 0.36613430599999996)\\n           Predict: 0.0\\n          Else (feature 16 > 0.36613430599999996)\\n           Predict: 1.0\\n         Else (feature 20 > 0.4617540025)\\n          Predict: 1.0\\n       Else (feature 15 > 2.3774164375)\\n        Predict: 0.0\\n     Else (feature 26 > 0.03250565)\\n      If (feature 18 <= 4.04E-4)\\n       If (feature 25 <= 0.239583855)\\n        If (feature 15 <= 1.3346354164999998)\\n         Predict: 0.0\\n        Else (feature 15 > 1.3346354164999998)\\n         Predict: 1.0\\n       Else (feature 25 > 0.239583855)\\n        Predict: 1.0\\n      Else (feature 18 > 4.04E-4)\\n       If (feature 15 <= 1.7039114935000002)\\n        If (feature 35 <= 0.0409902245)\\n         Predict: 0.0\\n        Else (feature 35 > 0.0409902245)\\n         If (feature 23 <= 0.052264744)\\n          Predict: 1.0\\n         Else (feature 23 > 0.052264744)\\n          If (feature 35 <= 0.0835544325)\\n           If (feature 18 <= 0.016530055000000002)\\n            Predict: 0.0\\n           Else (feature 18 > 0.016530055000000002)\\n            Predict: 1.0\\n          Else (feature 35 > 0.0835544325)\\n           Predict: 1.0\\n       Else (feature 15 > 1.7039114935000002)\\n        If (feature 17 <= 0.1526070645)\\n         If (feature 32 <= 401.5)\\n          If (feature 31 <= 4117.0)\\n           If (feature 19 <= 0.016282255500000002)\\n            Predict: 0.0\\n           Else (feature 19 > 0.016282255500000002)\\n            Predict: 1.0\\n          Else (feature 31 > 4117.0)\\n           If (feature 21 <= 9.0E-5)\\n            Predict: 1.0\\n           Else (feature 21 > 9.0E-5)\\n            Predict: 0.0\\n         Else (feature 32 > 401.5)\\n          Predict: 0.0\\n        Else (feature 17 > 0.1526070645)\\n         If (feature 23 <= 0.035435308)\\n          If (feature 21 <= 9.0E-5)\\n           Predict: 1.0\\n          Else (feature 21 > 9.0E-5)\\n           If (feature 14 <= 0.3666935)\\n            Predict: 0.0\\n           Else (feature 14 > 0.3666935)\\n            Predict: 1.0\\n         Else (feature 23 > 0.035435308)\\n          If (feature 33 <= 0.5)\\n           Predict: 0.0\\n          Else (feature 33 > 0.5)\\n           Predict: 1.0\\n    Else (feature 15 > 2.5409605390000003)\\n     If (feature 33 <= 9.5)\\n      If (feature 32 <= 401.5)\\n       If (feature 25 <= 0.255862062)\\n        If (feature 20 <= 0.559562363)\\n         If (feature 33 <= 2.5)\\n          If (feature 19 <= 0.078057847)\\n           Predict: 0.0\\n          Else (feature 19 > 0.078057847)\\n           Predict: 1.0\\n         Else (feature 33 > 2.5)\\n          If (feature 34 <= 0.1121972155)\\n           If (feature 15 <= 3.7978479855)\\n            Predict: 1.0\\n           Else (feature 15 > 3.7978479855)\\n            Predict: 0.0\\n          Else (feature 34 > 0.1121972155)\\n           Predict: 1.0\\n        Else (feature 20 > 0.559562363)\\n         If (feature 14 <= 0.8022944999999999)\\n          Predict: 0.0\\n         Else (feature 14 > 0.8022944999999999)\\n          Predict: 1.0\\n       Else (feature 25 > 0.255862062)\\n        If (feature 16 <= 0.690743713)\\n         If (feature 17 <= 0.284620272)\\n          If (feature 17 <= 0.1526070645)\\n           Predict: 0.0\\n          Else (feature 17 > 0.1526070645)\\n           If (feature 18 <= 0.124783737)\\n            Predict: 1.0\\n           Else (feature 18 > 0.124783737)\\n            Predict: 0.0\\n         Else (feature 17 > 0.284620272)\\n          Predict: 0.0\\n        Else (feature 16 > 0.690743713)\\n         Predict: 1.0\\n      Else (feature 32 > 401.5)\\n       If (feature 26 <= 0.11210193099999999)\\n        If (feature 14 <= 0.538359)\\n         Predict: 0.0\\n        Else (feature 14 > 0.538359)\\n         If (feature 29 <= 18.5)\\n          Predict: 0.0\\n         Else (feature 29 > 18.5)\\n          Predict: 1.0\\n       Else (feature 26 > 0.11210193099999999)\\n        Predict: 0.0\\n     Else (feature 33 > 9.5)\\n      If (feature 25 <= 0.2653115355)\\n       If (feature 16 <= 0.761501624)\\n        Predict: 0.0\\n       Else (feature 16 > 0.761501624)\\n        Predict: 1.0\\n      Else (feature 25 > 0.2653115355)\\n       Predict: 1.0\\n   Else (feature 3 not in {1.0})\\n    If (feature 1 in {1.0})\\n     If (feature 35 <= 0.1322986505)\\n      If (feature 15 <= 2.5409605390000003)\\n       If (feature 32 <= 51.5)\\n        If (feature 25 <= 0.2776930865)\\n         Predict: 1.0\\n        Else (feature 25 > 0.2776930865)\\n         If (feature 14 <= 0.7335315)\\n          Predict: 0.0\\n         Else (feature 14 > 0.7335315)\\n          If (feature 15 <= 1.5496478875)\\n           Predict: 1.0\\n          Else (feature 15 > 1.5496478875)\\n           Predict: 0.0\\n       Else (feature 32 > 51.5)\\n        If (feature 18 <= 0.0289331865)\\n         If (feature 20 <= 0.559562363)\\n          If (feature 17 <= 0.20346482700000001)\\n           If (feature 31 <= 14894.0)\\n            Predict: 1.0\\n           Else (feature 31 > 14894.0)\\n            Predict: 0.0\\n          Else (feature 17 > 0.20346482700000001)\\n           If (feature 25 <= 0.222464158)\\n            Predict: 0.0\\n           Else (feature 25 > 0.222464158)\\n            Predict: 1.0\\n         Else (feature 20 > 0.559562363)\\n          If (feature 23 <= 0.031001483)\\n           If (feature 14 <= 0.3666935)\\n            Predict: 0.0\\n           Else (feature 14 > 0.3666935)\\n            Predict: 1.0\\n          Else (feature 23 > 0.031001483)\\n           Predict: 0.0\\n        Else (feature 18 > 0.0289331865)\\n         If (feature 33 <= 1.5)\\n          If (feature 26 <= 0.009615196999999999)\\n           Predict: 0.0\\n          Else (feature 26 > 0.009615196999999999)\\n           If (feature 32 <= 401.5)\\n            Predict: 1.0\\n           Else (feature 32 > 401.5)\\n            Predict: 0.0\\n         Else (feature 33 > 1.5)\\n          Predict: 1.0\\n      Else (feature 15 > 2.5409605390000003)\\n       If (feature 29 <= 25.5)\\n        If (feature 23 <= 0.040393306000000004)\\n         If (feature 35 <= 0.117787046)\\n          If (feature 26 <= 0.46120401349999995)\\n           Predict: 1.0\\n          Else (feature 26 > 0.46120401349999995)\\n           If (feature 14 <= 0.4619955)\\n            Predict: 1.0\\n           Else (feature 14 > 0.4619955)\\n            Predict: 0.0\\n         Else (feature 35 > 0.117787046)\\n          Predict: 0.0\\n        Else (feature 23 > 0.040393306000000004)\\n         If (feature 17 <= 0.2292622325)\\n          If (feature 34 <= 0.1121972155)\\n           Predict: 0.0\\n          Else (feature 34 > 0.1121972155)\\n           If (feature 15 <= 2.7592282175)\\n            Predict: 1.0\\n           Else (feature 15 > 2.7592282175)\\n            Predict: 0.0\\n         Else (feature 17 > 0.2292622325)\\n          If (feature 18 <= 0.041745881)\\n           Predict: 0.0\\n          Else (feature 18 > 0.041745881)\\n           Predict: 1.0\\n       Else (feature 29 > 25.5)\\n        If (feature 25 <= 0.2307125485)\\n         If (feature 19 <= 0.043187672499999996)\\n          If (feature 18 <= 0.124783737)\\n           Predict: 1.0\\n          Else (feature 18 > 0.124783737)\\n           If (feature 14 <= 0.3666935)\\n            Predict: 1.0\\n           Else (feature 14 > 0.3666935)\\n            Predict: 0.0\\n         Else (feature 19 > 0.043187672499999996)\\n          If (feature 20 <= 0.5232717425)\\n           If (feature 25 <= 0.1953825735)\\n            Predict: 0.0\\n           Else (feature 25 > 0.1953825735)\\n            Predict: 1.0\\n          Else (feature 20 > 0.5232717425)\\n           Predict: 0.0\\n        Else (feature 25 > 0.2307125485)\\n         If (feature 33 <= 9.5)\\n          Predict: 0.0\\n         Else (feature 33 > 9.5)\\n          If (feature 19 <= 0.172030215)\\n           Predict: 1.0\\n          Else (feature 19 > 0.172030215)\\n           Predict: 0.0\\n     Else (feature 35 > 0.1322986505)\\n      If (feature 20 <= 0.5232717425)\\n       If (feature 17 <= 0.055459439)\\n        Predict: 1.0\\n       Else (feature 17 > 0.055459439)\\n        If (feature 18 <= 0.124783737)\\n         If (feature 29 <= 46.5)\\n          If (feature 20 <= 0.473316041)\\n           Predict: 0.0\\n          Else (feature 20 > 0.473316041)\\n           If (feature 14 <= 0.538359)\\n            Predict: 0.0\\n           Else (feature 14 > 0.538359)\\n            Predict: 1.0\\n         Else (feature 29 > 46.5)\\n          Predict: 1.0\\n        Else (feature 18 > 0.124783737)\\n         If (feature 32 <= 177.5)\\n          If (feature 15 <= 3.0801282050000003)\\n           Predict: 0.0\\n          Else (feature 15 > 3.0801282050000003)\\n           Predict: 1.0\\n         Else (feature 32 > 177.5)\\n          Predict: 1.0\\n      Else (feature 20 > 0.5232717425)\\n       If (feature 34 <= 0.271206428)\\n        Predict: 1.0\\n       Else (feature 34 > 0.271206428)\\n        If (feature 16 <= 0.44663430449999997)\\n         Predict: 1.0\\n        Else (feature 16 > 0.44663430449999997)\\n         Predict: 0.0\\n    Else (feature 1 not in {1.0})\\n     If (feature 14 <= 0.4619955)\\n      If (feature 23 <= 0.052264744)\\n       If (feature 33 <= 0.5)\\n        If (feature 35 <= 0.065323649)\\n         Predict: 0.0\\n        Else (feature 35 > 0.065323649)\\n         If (feature 0 in {0.0})\\n          Predict: 0.0\\n         Else (feature 0 not in {0.0})\\n          If (feature 17 <= 0.439311154)\\n           If (feature 31 <= 14894.0)\\n            Predict: 1.0\\n           Else (feature 31 > 14894.0)\\n            Predict: 0.0\\n          Else (feature 17 > 0.439311154)\\n           Predict: 1.0\\n       Else (feature 33 > 0.5)\\n        If (feature 33 <= 7.5)\\n         If (feature 18 <= 0.016530055000000002)\\n          If (feature 32 <= 90.5)\\n           Predict: 1.0\\n          Else (feature 32 > 90.5)\\n           If (feature 31 <= 5643.5)\\n            Predict: 0.0\\n           Else (feature 31 > 5643.5)\\n            Predict: 1.0\\n         Else (feature 18 > 0.016530055000000002)\\n          If (feature 15 <= 2.7592282175)\\n           Predict: 1.0\\n          Else (feature 15 > 2.7592282175)\\n           If (feature 23 <= 0.040393306000000004)\\n            Predict: 1.0\\n           Else (feature 23 > 0.040393306000000004)\\n            Predict: 0.0\\n        Else (feature 33 > 7.5)\\n         If (feature 18 <= 0.1791476145)\\n          If (feature 17 <= 0.0922064775)\\n           If (feature 34 <= 0.066482505)\\n            Predict: 0.0\\n           Else (feature 34 > 0.066482505)\\n            Predict: 1.0\\n          Else (feature 17 > 0.0922064775)\\n           If (feature 35 <= 0.0547604445)\\n            Predict: 1.0\\n           Else (feature 35 > 0.0547604445)\\n            Predict: 0.0\\n         Else (feature 18 > 0.1791476145)\\n          If (feature 26 <= 0.082825945)\\n           If (feature 33 <= 9.5)\\n            Predict: 1.0\\n           Else (feature 33 > 9.5)\\n            Predict: 0.0\\n          Else (feature 26 > 0.082825945)\\n           Predict: 1.0\\n      Else (feature 23 > 0.052264744)\\n       If (feature 15 <= 2.3774164375)\\n        If (feature 19 <= 0.056845110000000004)\\n         If (feature 6 in {1.0})\\n          If (feature 32 <= 156.5)\\n           Predict: 1.0\\n          Else (feature 32 > 156.5)\\n           Predict: 0.0\\n         Else (feature 6 not in {1.0})\\n          If (feature 31 <= 3484.5)\\n           If (feature 34 <= 0.0876552695)\\n            Predict: 0.0\\n           Else (feature 34 > 0.0876552695)\\n            Predict: 1.0\\n          Else (feature 31 > 3484.5)\\n           If (feature 18 <= 0.124783737)\\n            Predict: 0.0\\n           Else (feature 18 > 0.124783737)\\n            Predict: 1.0\\n        Else (feature 19 > 0.056845110000000004)\\n         If (feature 25 <= 0.255862062)\\n          If (feature 35 <= 0.101337927)\\n           If (feature 35 <= 0.0409902245)\\n            Predict: 0.0\\n           Else (feature 35 > 0.0409902245)\\n            Predict: 1.0\\n          Else (feature 35 > 0.101337927)\\n           If (feature 25 <= 0.222464158)\\n            Predict: 0.0\\n           Else (feature 25 > 0.222464158)\\n            Predict: 1.0\\n         Else (feature 25 > 0.255862062)\\n          If (feature 15 <= 1.9857649445)\\n           Predict: 1.0\\n          Else (feature 15 > 1.9857649445)\\n           Predict: 0.0\\n       Else (feature 15 > 2.3774164375)\\n        If (feature 25 <= 0.2473463415)\\n         If (feature 19 <= 0.016282255500000002)\\n          If (feature 33 <= 7.5)\\n           If (feature 32 <= 177.5)\\n            Predict: 0.0\\n           Else (feature 32 > 177.5)\\n            Predict: 1.0\\n          Else (feature 33 > 7.5)\\n           If (feature 20 <= 0.3915233405)\\n            Predict: 0.0\\n           Else (feature 20 > 0.3915233405)\\n            Predict: 1.0\\n         Else (feature 19 > 0.016282255500000002)\\n          If (feature 24 <= 0.5)\\n           Predict: 0.0\\n          Else (feature 24 > 0.5)\\n           If (feature 15 <= 3.0801282050000003)\\n            Predict: 1.0\\n           Else (feature 15 > 3.0801282050000003)\\n            Predict: 0.0\\n        Else (feature 25 > 0.2473463415)\\n         If (feature 35 <= 0.1322986505)\\n          If (feature 17 <= 0.178657695)\\n           If (feature 33 <= 8.5)\\n            Predict: 0.0\\n           Else (feature 33 > 8.5)\\n            Predict: 1.0\\n          Else (feature 17 > 0.178657695)\\n           If (feature 33 <= 4.5)\\n            Predict: 0.0\\n           Else (feature 33 > 4.5)\\n            Predict: 1.0\\n         Else (feature 35 > 0.1322986505)\\n          Predict: 0.0\\n     Else (feature 14 > 0.4619955)\\n      If (feature 4 in {1.0})\\n       If (feature 33 <= 10.5)\\n        If (feature 34 <= 0.0044155489999999995)\\n         Predict: 1.0\\n        Else (feature 34 > 0.0044155489999999995)\\n         If (feature 17 <= 0.055459439)\\n          If (feature 31 <= 2907.5)\\n           If (feature 23 <= 0.0684144485)\\n            Predict: 1.0\\n           Else (feature 23 > 0.0684144485)\\n            Predict: 0.0\\n          Else (feature 31 > 2907.5)\\n           Predict: 0.0\\n         Else (feature 17 > 0.055459439)\\n          If (feature 28 <= 0.5)\\n           Predict: 1.0\\n          Else (feature 28 > 0.5)\\n           If (feature 32 <= 90.5)\\n            Predict: 0.0\\n           Else (feature 32 > 90.5)\\n            Predict: 1.0\\n       Else (feature 33 > 10.5)\\n        If (feature 35 <= 0.117787046)\\n         If (feature 25 <= 0.183507566)\\n          If (feature 14 <= 0.668787)\\n           Predict: 0.0\\n          Else (feature 14 > 0.668787)\\n           Predict: 1.0\\n         Else (feature 25 > 0.183507566)\\n          Predict: 0.0\\n        Else (feature 35 > 0.117787046)\\n         If (feature 15 <= 1.8576759059999999)\\n          Predict: 0.0\\n         Else (feature 15 > 1.8576759059999999)\\n          If (feature 16 <= 0.638070673)\\n           Predict: 1.0\\n          Else (feature 16 > 0.638070673)\\n           Predict: 0.0\\n      Else (feature 4 not in {1.0})\\n       If (feature 2 in {0.0})\\n        If (feature 33 <= 9.5)\\n         If (feature 5 in {1.0})\\n          If (feature 26 <= 0.03250565)\\n           If (feature 17 <= 0.255155187)\\n            Predict: 0.0\\n           Else (feature 17 > 0.255155187)\\n            Predict: 1.0\\n          Else (feature 26 > 0.03250565)\\n           Predict: 0.0\\n         Else (feature 5 not in {1.0})\\n          If (feature 18 <= 0.041745881)\\n           Predict: 0.0\\n          Else (feature 18 > 0.041745881)\\n           If (feature 15 <= 1.7039114935000002)\\n            Predict: 1.0\\n           Else (feature 15 > 1.7039114935000002)\\n            Predict: 0.0\\n        Else (feature 33 > 9.5)\\n         If (feature 23 <= 0.015053832999999999)\\n          Predict: 1.0\\n         Else (feature 23 > 0.015053832999999999)\\n          If (feature 28 <= 0.5)\\n           If (feature 7 in {0.0})\\n            Predict: 0.0\\n           Else (feature 7 not in {0.0})\\n            Predict: 1.0\\n          Else (feature 28 > 0.5)\\n           If (feature 11 in {1.0})\\n            Predict: 1.0\\n           Else (feature 11 not in {1.0})\\n            Predict: 0.0\\n       Else (feature 2 not in {0.0})\\n        If (feature 29 <= 25.5)\\n         If (feature 19 <= 0.078057847)\\n          If (feature 16 <= 0.597172262)\\n           Predict: 0.0\\n          Else (feature 16 > 0.597172262)\\n           If (feature 33 <= 0.5)\\n            Predict: 0.0\\n           Else (feature 33 > 0.5)\\n            Predict: 1.0\\n         Else (feature 19 > 0.078057847)\\n          If (feature 15 <= 2.7592282175)\\n           If (feature 35 <= 0.1322986505)\\n            Predict: 1.0\\n           Else (feature 35 > 0.1322986505)\\n            Predict: 0.0\\n          Else (feature 15 > 2.7592282175)\\n           If (feature 14 <= 0.6059464999999999)\\n            Predict: 0.0\\n           Else (feature 14 > 0.6059464999999999)\\n            Predict: 1.0\\n        Else (feature 29 > 25.5)\\n         If (feature 26 <= 0.03250565)\\n          Predict: 0.0\\n         Else (feature 26 > 0.03250565)\\n          If (feature 27 <= 0.5)\\n           If (feature 26 <= 0.28604963149999996)\\n            Predict: 1.0\\n           Else (feature 26 > 0.28604963149999996)\\n            Predict: 0.0\\n          Else (feature 27 > 0.5)\\n           Predict: 0.0\\n'"
      ]
     },
     "execution_count": 20,
     "metadata": {},
     "output_type": "execute_result"
    }
   ],
   "source": [
    "pipelineModel.stages[3].toDebugString"
   ]
  },
  {
   "cell_type": "code",
   "execution_count": 21,
   "metadata": {},
   "outputs": [
    {
     "name": "stdout",
     "output_type": "stream",
     "text": [
      "['url', 'alchemy_category', 'alchemy_category_score', 'avglinksize', 'commonlinkratio_1', 'commonlinkratio_2', 'commonlinkratio_3', 'commonlinkratio_4', 'compression_ratio', 'embed_ratio', 'framebased', 'frameTagRatio', 'hasDomainLink', 'html_ratio', 'image_ratio', 'is_news', 'lengthyLinkDomain', 'linkwordscore', 'news_front_page', 'non_markup_alphanum_characters', 'numberOfLinks', 'numwords_in_url', 'parametrizedLinkRatio', 'spelling_errors_ratio', 'label', 'alchemy_category_Index', 'alchemy_category_IndexVec', 'features', 'rawPrediction', 'probability', 'prediction']\n"
     ]
    }
   ],
   "source": [
    "predicted=pipelineModel.transform(test_df)\n",
    "print(predicted.columns)"
   ]
  },
  {
   "cell_type": "code",
   "execution_count": 22,
   "metadata": {},
   "outputs": [
    {
     "name": "stdout",
     "output_type": "stream",
     "text": [
      "+--------------------+-------------+--------------------+-----+----------+\n",
      "|            features|rawPrediction|         probability|label|prediction|\n",
      "+--------------------+-------------+--------------------+-----+----------+\n",
      "|(36,[0,15,16,17,1...|  [17.0,32.0]|[0.34693877551020...|  1.0|       1.0|\n",
      "|(36,[3,14,15,16,1...|   [1.0,13.0]|[0.07142857142857...|  1.0|       1.0|\n",
      "|(36,[3,14,15,16,1...|    [2.0,0.0]|           [1.0,0.0]|  1.0|       0.0|\n",
      "|(36,[1,14,15,16,1...|   [13.0,4.0]|[0.76470588235294...|  0.0|       0.0|\n",
      "|(36,[0,15,16,17,2...| [274.0,94.0]|[0.74456521739130...|  0.0|       0.0|\n",
      "|(36,[0,15,16,17,1...|   [1.0,23.0]|[0.04166666666666...|  0.0|       1.0|\n",
      "|(36,[0,15,16,17,1...|   [1.0,23.0]|[0.04166666666666...|  1.0|       1.0|\n",
      "|(36,[0,15,16,17,1...|  [70.0,89.0]|[0.44025157232704...|  0.0|       1.0|\n",
      "|(36,[2,14,15,16,1...|    [1.0,4.0]|           [0.2,0.8]|  0.0|       1.0|\n",
      "|(36,[4,14,15,16,2...|    [2.0,0.0]|           [1.0,0.0]|  1.0|       0.0|\n",
      "+--------------------+-------------+--------------------+-----+----------+\n",
      "only showing top 10 rows\n",
      "\n"
     ]
    },
    {
     "data": {
      "text/plain": [
       "[Row(probability=DenseVector([0.3469, 0.6531]), prediction=1.0),\n",
       " Row(probability=DenseVector([0.0714, 0.9286]), prediction=1.0),\n",
       " Row(probability=DenseVector([1.0, 0.0]), prediction=0.0),\n",
       " Row(probability=DenseVector([0.7647, 0.2353]), prediction=0.0),\n",
       " Row(probability=DenseVector([0.7446, 0.2554]), prediction=0.0),\n",
       " Row(probability=DenseVector([0.0417, 0.9583]), prediction=1.0),\n",
       " Row(probability=DenseVector([0.0417, 0.9583]), prediction=1.0),\n",
       " Row(probability=DenseVector([0.4403, 0.5597]), prediction=1.0),\n",
       " Row(probability=DenseVector([0.2, 0.8]), prediction=1.0),\n",
       " Row(probability=DenseVector([1.0, 0.0]), prediction=0.0)]"
      ]
     },
     "execution_count": 22,
     "metadata": {},
     "output_type": "execute_result"
    }
   ],
   "source": [
    "predicted.select(\"features\", \"rawPrediction\", \"probability\", \"label\", \"prediction\").show(10)\n",
    "predicted.select(\"probability\", \"prediction\").take(10)"
   ]
  },
  {
   "cell_type": "code",
   "execution_count": 23,
   "metadata": {},
   "outputs": [
    {
     "data": {
      "text/plain": [
       "0.570610257508138"
      ]
     },
     "execution_count": 23,
     "metadata": {},
     "output_type": "execute_result"
    }
   ],
   "source": [
    "evaluator=BinaryClassificationEvaluator(rawPredictionCol=\"rawPrediction\", \n",
    "                                        labelCol=\"label\", metricName=\"areaUnderROC\")\n",
    "\n",
    "auc=evaluator.evaluate(predicted)\n",
    "auc"
   ]
  },
  {
   "cell_type": "markdown",
   "metadata": {},
   "source": [
    "#### Decision tree with TrainVaildation"
   ]
  },
  {
   "cell_type": "code",
   "execution_count": 24,
   "metadata": {},
   "outputs": [
    {
     "data": {
      "text/plain": [
       "u'DecisionTreeClassificationModel (uid=DecisionTreeClassifier_c6fe4b5e1f3b) of depth 15 with 1603 nodes\\n  If (feature 31 <= 2681.5)\\n   If (feature 31 <= 1206.0)\\n    If (feature 4 in {1.0})\\n     If (feat'"
      ]
     },
     "execution_count": 24,
     "metadata": {},
     "output_type": "execute_result"
    }
   ],
   "source": [
    "from pyspark.ml import Pipeline\n",
    "from pyspark.ml.feature import StringIndexer, OneHotEncoder, VectorAssembler\n",
    "from pyspark.ml.classification import DecisionTreeClassifier\n",
    "from pyspark.ml.tuning import ParamGridBuilder, TrainValidationSplit\n",
    "from pyspark.ml.evaluation import BinaryClassificationEvaluator\n",
    "\n",
    "categoryIndexer=StringIndexer(inputCol=\"alchemy_category\", outputCol=\"alchemy_category_Index\")\n",
    "\n",
    "encoder=OneHotEncoder(dropLast=False, inputCol=\"alchemy_category_Index\", \n",
    "                      outputCol=\"alchemy_category_IndexVec\")\n",
    "\n",
    "assemblerInputs=[\"alchemy_category_IndexVec\"]+df.columns[2:-1]\n",
    "assembler=VectorAssembler(inputCols=assemblerInputs, outputCol=\"features\")\n",
    "\n",
    "dt=DecisionTreeClassifier(labelCol=\"label\", featuresCol=\"features\", \n",
    "                          impurity=\"gini\", maxDepth=10, maxBins=14)\n",
    "\n",
    "paramGrid=ParamGridBuilder().addGrid(dt.impurity, [\"gini\", \"entropy\"])\\\n",
    ".addGrid(dt.maxDepth, [5, 10, 15])\\\n",
    ".addGrid(dt.maxBins, [10, 15, 20])\\\n",
    ".build()\n",
    "\n",
    "evaluator=BinaryClassificationEvaluator(rawPredictionCol=\"rawPrediction\", labelCol=\"label\", \n",
    "                                        metricName=\"areaUnderROC\")\n",
    "\n",
    "tvs=TrainValidationSplit(estimator=dt, evaluator=evaluator, \n",
    "                         estimatorParamMaps=paramGrid, trainRatio=0.8)\n",
    "\n",
    "tvs_pipeline=Pipeline(stages=[categoryIndexer, encoder, assembler, tvs])\n",
    "\n",
    "tvs_pipelineModel=tvs_pipeline.fit(train_df)\n",
    "\n",
    "bestModel=tvs_pipelineModel.stages[3].bestModel\n",
    "\n",
    "bestModel.toDebugString[:200]"
   ]
  },
  {
   "cell_type": "code",
   "execution_count": 25,
   "metadata": {},
   "outputs": [
    {
     "data": {
      "text/plain": [
       "0.6483457668428766"
      ]
     },
     "execution_count": 25,
     "metadata": {},
     "output_type": "execute_result"
    }
   ],
   "source": [
    "predictions=tvs_pipelineModel.transform(test_df)\n",
    "\n",
    "auc=evaluator.evaluate(predictions)\n",
    "auc"
   ]
  },
  {
   "cell_type": "markdown",
   "metadata": {},
   "source": [
    "#### Decision tree with CrossVaildation"
   ]
  },
  {
   "cell_type": "code",
   "execution_count": 26,
   "metadata": {},
   "outputs": [
    {
     "data": {
      "text/plain": [
       "DecisionTreeClassificationModel (uid=DecisionTreeClassifier_c6fe4b5e1f3b) of depth 15 with 1495 nodes"
      ]
     },
     "execution_count": 26,
     "metadata": {},
     "output_type": "execute_result"
    }
   ],
   "source": [
    "from pyspark.ml import Pipeline\n",
    "from pyspark.ml.feature import StringIndexer, OneHotEncoder, VectorAssembler\n",
    "from pyspark.ml.classification import DecisionTreeClassifier\n",
    "from pyspark.ml.tuning import ParamGridBuilder, CrossValidator\n",
    "from pyspark.ml.evaluation import BinaryClassificationEvaluator\n",
    "\n",
    "categoryIndexer=StringIndexer(inputCol=\"alchemy_category\", outputCol=\"alchemy_category_Index\")\n",
    "\n",
    "encoder=OneHotEncoder(dropLast=False, inputCol=\"alchemy_category_Index\", \n",
    "                      outputCol=\"alchemy_category_IndexVec\")\n",
    "\n",
    "assemblerInputs=[\"alchemy_category_IndexVec\"]+df.columns[2:-1]\n",
    "assembler=VectorAssembler(inputCols=assemblerInputs, outputCol=\"features\")\n",
    "\n",
    "dt=DecisionTreeClassifier(labelCol=\"label\", featuresCol=\"features\", \n",
    "                          impurity=\"gini\", maxDepth=10, maxBins=14)\n",
    "\n",
    "paramGrid=ParamGridBuilder().addGrid(dt.impurity, [\"gini\", \"entropy\"])\\\n",
    ".addGrid(dt.maxDepth, [5, 10, 15])\\\n",
    ".addGrid(dt.maxBins, [10, 15, 20])\\\n",
    ".build()\n",
    "\n",
    "evaluator=BinaryClassificationEvaluator(rawPredictionCol=\"rawPrediction\", labelCol=\"label\", \n",
    "                                        metricName=\"areaUnderROC\")\n",
    "\n",
    "cv=CrossValidator(estimator=dt, evaluator=evaluator,\n",
    "                   estimatorParamMaps=paramGrid, numFolds=3)\n",
    "\n",
    "cv_pipeline=Pipeline(stages=[categoryIndexer, encoder, assembler, cv])\n",
    "\n",
    "cv_pipelineModel=cv_pipeline.fit(train_df)\n",
    "\n",
    "bestModel=cv_pipelineModel.stages[3].bestModel\n",
    "bestModel"
   ]
  },
  {
   "cell_type": "code",
   "execution_count": 27,
   "metadata": {},
   "outputs": [
    {
     "data": {
      "text/plain": [
       "0.646693062878034"
      ]
     },
     "execution_count": 27,
     "metadata": {},
     "output_type": "execute_result"
    }
   ],
   "source": [
    "predictions=cv_pipelineModel.transform(test_df)\n",
    "auc=evaluator.evaluate(predictions)\n",
    "auc"
   ]
  },
  {
   "cell_type": "markdown",
   "metadata": {},
   "source": [
    "#### RandomForest"
   ]
  },
  {
   "cell_type": "code",
   "execution_count": 9,
   "metadata": {},
   "outputs": [
    {
     "data": {
      "text/plain": [
       "[StringIndexer_4546249a9c1d,\n",
       " OneHotEncoder_6a404a8d61b4,\n",
       " VectorAssembler_c77ada5aff86,\n",
       " RandomForestClassifier_da63ae32342a]"
      ]
     },
     "execution_count": 9,
     "metadata": {},
     "output_type": "execute_result"
    }
   ],
   "source": [
    "from pyspark.ml import Pipeline\n",
    "from pyspark.ml.feature import StringIndexer, OneHotEncoder, VectorAssembler\n",
    "from pyspark.ml.classification import RandomForestClassifier\n",
    "\n",
    "categoryIndexer=StringIndexer(inputCol=\"alchemy_category\", outputCol=\"alchemy_category_Index\")\n",
    "\n",
    "encoder=OneHotEncoder(dropLast=False, inputCol=\"alchemy_category_Index\",\n",
    "                      outputCol=\"alchemy_category_IndexVec\")\n",
    "\n",
    "assemblerInputs=[\"alchemy_category_IndexVec\"]+df.columns[2:-1]\n",
    "assembler=VectorAssembler(inputCols=assemblerInputs, outputCol=\"features\")\n",
    "\n",
    "rf=RandomForestClassifier(labelCol=\"label\", featuresCol=\"features\", numTrees=10)\n",
    "\n",
    "rfpipeline=Pipeline(stages=[categoryIndexer, encoder, assembler, rf])\n",
    "rfpipeline.getStages()"
   ]
  },
  {
   "cell_type": "code",
   "execution_count": 10,
   "metadata": {},
   "outputs": [
    {
     "data": {
      "text/plain": [
       "0.7384597211815173"
      ]
     },
     "execution_count": 10,
     "metadata": {},
     "output_type": "execute_result"
    }
   ],
   "source": [
    "from pyspark.ml.evaluation import BinaryClassificationEvaluator\n",
    "\n",
    "rfpipelineModel=rfpipeline.fit(train_df)\n",
    "rfpredicted=rfpipelineModel.transform(test_df)\n",
    "\n",
    "evaluator=BinaryClassificationEvaluator(rawPredictionCol=\"rawPrediction\", labelCol=\"label\", \n",
    "                                        metricName=\"areaUnderROC\")\n",
    "\n",
    "auc=evaluator.evaluate(rfpredicted)\n",
    "auc"
   ]
  },
  {
   "cell_type": "markdown",
   "metadata": {},
   "source": [
    "#### Random forest with TrainValidation"
   ]
  },
  {
   "cell_type": "code",
   "execution_count": 11,
   "metadata": {},
   "outputs": [
    {
     "data": {
      "text/plain": [
       "0.7757623917999431"
      ]
     },
     "execution_count": 11,
     "metadata": {},
     "output_type": "execute_result"
    }
   ],
   "source": [
    "from pyspark.ml import Pipeline\n",
    "from pyspark.ml.feature import StringIndexer, OneHotEncoder, VectorAssembler\n",
    "from pyspark.ml.classification import RandomForestClassifier\n",
    "from pyspark.ml.tuning import ParamGridBuilder, TrainValidationSplit\n",
    "from pyspark.ml.evaluation import BinaryClassificationEvaluator\n",
    "\n",
    "categoryIndexer=StringIndexer(inputCol=\"alchemy_category\", outputCol=\"alchemy_category_Index\")\n",
    "\n",
    "encoder=OneHotEncoder(dropLast=False, inputCol=\"alchemy_category_Index\",\n",
    "                      outputCol=\"alchemy_category_IndexVec\")\n",
    "\n",
    "assemblerInputs=[\"alchemy_category_IndexVec\"]+df.columns[2:-1]\n",
    "assembler=VectorAssembler(inputCols=assemblerInputs, outputCol=\"features\")\n",
    "\n",
    "rf=RandomForestClassifier(labelCol=\"label\", featuresCol=\"features\", numTrees=10)\n",
    "\n",
    "paramGrid=ParamGridBuilder().addGrid(rf.impurity, [\"gini\", \"entropy\"])\\\n",
    ".addGrid(rf.maxDepth, [5, 10, 15])\\\n",
    ".addGrid(rf.maxBins, [10, 15, 20])\\\n",
    ".addGrid(rf.numTrees, [10, 20, 30])\\\n",
    ".build()\n",
    "\n",
    "evaluator=BinaryClassificationEvaluator(rawPredictionCol=\"rawPrediction\", labelCol=\"label\", \n",
    "                                        metricName=\"areaUnderROC\")\n",
    "\n",
    "rftvs=TrainValidationSplit(estimator=rf, evaluator=evaluator, estimatorParamMaps=paramGrid,\n",
    "                           trainRatio=0.8)\n",
    "\n",
    "rftvs_pipeline=Pipeline(stages=[categoryIndexer, encoder, assembler, rftvs])\n",
    "\n",
    "rftvs_pipelineModel=rftvs_pipeline.fit(train_df)\n",
    "\n",
    "rftvspredictions=rftvs_pipelineModel.transform(test_df)\n",
    "\n",
    "auc=evaluator.evaluate(rftvspredictions)\n",
    "auc"
   ]
  },
  {
   "cell_type": "markdown",
   "metadata": {},
   "source": [
    "#### Random forest with CrossValidation"
   ]
  },
  {
   "cell_type": "code",
   "execution_count": 12,
   "metadata": {},
   "outputs": [
    {
     "data": {
      "text/plain": [
       "0.764369667552788"
      ]
     },
     "execution_count": 12,
     "metadata": {},
     "output_type": "execute_result"
    }
   ],
   "source": [
    "from pyspark.ml import Pipeline\n",
    "from pyspark.ml.feature import StringIndexer, OneHotEncoder, VectorAssembler\n",
    "from pyspark.ml.classification import RandomForestClassifier\n",
    "from pyspark.ml.tuning import ParamGridBuilder, CrossValidator\n",
    "from pyspark.ml.evaluation import BinaryClassificationEvaluator\n",
    "\n",
    "categoryIndexer=StringIndexer(inputCol=\"alchemy_category\", outputCol=\"alchemy_category_Index\")\n",
    "\n",
    "encoder=OneHotEncoder(dropLast=False, inputCol=\"alchemy_category_Index\",\n",
    "                      outputCol=\"alchemy_category_IndexVec\")\n",
    "\n",
    "assemblerInputs=[\"alchemy_category_IndexVec\"]+df.columns[2:-1]\n",
    "assembler=VectorAssembler(inputCols=assemblerInputs, outputCol=\"features\")\n",
    "\n",
    "rf=RandomForestClassifier(labelCol=\"label\", featuresCol=\"features\", numTrees=10)\n",
    "\n",
    "paramGrid=ParamGridBuilder().addGrid(rf.impurity, [\"gini\", \"entropy\"])\\\n",
    ".addGrid(rf.maxDepth, [5, 10, 15])\\\n",
    ".addGrid(rf.maxBins, [10, 15, 20])\\\n",
    ".addGrid(rf.numTrees, [10, 20, 30])\\\n",
    ".build()\n",
    "\n",
    "evaluator=BinaryClassificationEvaluator(rawPredictionCol=\"rawPrediction\", labelCol=\"label\", \n",
    "                                        metricName=\"areaUnderROC\")\n",
    "\n",
    "rfcv=CrossValidator(estimator=rf, evaluator=evaluator, estimatorParamMaps=paramGrid, numFolds=3)\n",
    "\n",
    "rfcv_pipeline=Pipeline(stages=[categoryIndexer, encoder, assembler, rfcv])\n",
    "\n",
    "rfcv_pipelineModel=rfcv_pipeline.fit(train_df)\n",
    "\n",
    "rfcvpredictions=rfcv_pipelineModel.transform(test_df)\n",
    "\n",
    "auc=evaluator.evaluate(rfcvpredictions)\n",
    "auc"
   ]
  },
  {
   "cell_type": "code",
   "execution_count": 13,
   "metadata": {},
   "outputs": [
    {
     "name": "stdout",
     "output_type": "stream",
     "text": [
      "web url: http://17andbaking.com/2010/04/02/blackberry-jam-almond-bars/\n",
      "              ==> prediction:1.0 description: Evergreen\n",
      "\n",
      "web url: http://1greengeneration.elementsintime.com/?p=365\n",
      "              ==> prediction:1.0 description: Evergreen\n",
      "\n",
      "web url: http://1x.com/photo/39383/portfolio/39932\n",
      "              ==> prediction:0.0 description: Ephemeral\n",
      "\n",
      "web url: http://24-7humor.com/what-the-hell-windows-95/\n",
      "              ==> prediction:0.0 description: Ephemeral\n",
      "\n",
      "web url: http://30aeats.com/recipes/sun-dried-tomato-kalamata-olive-and-basil-pesto-focaccia/\n",
      "              ==> prediction:1.0 description: Evergreen\n",
      "\n"
     ]
    }
   ],
   "source": [
    "DescDict={\n",
    "    0: \"Ephemeral\",\n",
    "    1: \"Evergreen\"\n",
    "}\n",
    "\n",
    "for data in rfcvpredictions.select(\"url\", \"prediction\").take(5):\n",
    "    print(\"web url: \" + str(data[0]) + \"\\n\" + \\\n",
    "         \"              ==> prediction:\" + str(data[1]) + \\\n",
    "         \" description: \" + DescDict[data[1]] + \"\\n\")"
   ]
  }
 ],
 "metadata": {
  "kernelspec": {
   "display_name": "Python 3",
   "language": "python",
   "name": "python3"
  },
  "language_info": {
   "codemirror_mode": {
    "name": "ipython",
    "version": 3
   },
   "file_extension": ".py",
   "mimetype": "text/x-python",
   "name": "python",
   "nbconvert_exporter": "python",
   "pygments_lexer": "ipython3",
   "version": "3.7.4"
  }
 },
 "nbformat": 4,
 "nbformat_minor": 1
}
